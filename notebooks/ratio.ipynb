{
 "cells": [
  {
   "cell_type": "code",
   "execution_count": 1,
   "metadata": {},
   "outputs": [],
   "source": [
    "import pandas as pd\n",
    "import matplotlib.pyplot as plt"
   ]
  },
  {
   "cell_type": "markdown",
   "metadata": {},
   "source": [
    "### Parse top 10 violations from DFPS portal"
   ]
  },
  {
   "cell_type": "code",
   "execution_count": 2,
   "metadata": {},
   "outputs": [],
   "source": [
    "# DCL 4.5 Top 10 Standards Deficiencies FY09-FY17\n",
    "dat = pd.read_csv(\n",
    "    'https://data.texas.gov/api/views/hesh-m7cs/rows.csv?accessType=DOWNLOAD'\n",
    ").rename(\n",
    "    columns = lambda x: x.replace(' ', '')\n",
    ")"
   ]
  },
  {
   "cell_type": "markdown",
   "metadata": {},
   "source": [
    "### Normalize by operations"
   ]
  },
  {
   "cell_type": "code",
   "execution_count": 3,
   "metadata": {},
   "outputs": [],
   "source": [
    "# DCL 2.2 Operations During Fiscal Year By Operation Type and County FY08-FY17\n",
    "dat_operation_counts = pd.read_csv(\n",
    "    'https://data.texas.gov/api/views/mxh9-nxm6/rows.csv?accessType=DOWNLOAD'\n",
    ").rename(\n",
    "    columns = lambda x: x.replace(' ', '')\n",
    ")"
   ]
  },
  {
   "cell_type": "code",
   "execution_count": 4,
   "metadata": {},
   "outputs": [
    {
     "data": {
      "text/html": [
       "<div>\n",
       "<style>\n",
       "    .dataframe thead tr:only-child th {\n",
       "        text-align: right;\n",
       "    }\n",
       "\n",
       "    .dataframe thead th {\n",
       "        text-align: left;\n",
       "    }\n",
       "\n",
       "    .dataframe tbody tr th {\n",
       "        vertical-align: top;\n",
       "    }\n",
       "</style>\n",
       "<table border=\"1\" class=\"dataframe\">\n",
       "  <thead>\n",
       "    <tr style=\"text-align: right;\">\n",
       "      <th></th>\n",
       "      <th>OperationType</th>\n",
       "      <th>Rank</th>\n",
       "      <th>RuleNumber</th>\n",
       "      <th>NumberofDeficiencies</th>\n",
       "      <th>PercentofTotal</th>\n",
       "      <th>NumberofOperations</th>\n",
       "    </tr>\n",
       "    <tr>\n",
       "      <th>FiscalYear</th>\n",
       "      <th></th>\n",
       "      <th></th>\n",
       "      <th></th>\n",
       "      <th></th>\n",
       "      <th></th>\n",
       "      <th></th>\n",
       "    </tr>\n",
       "  </thead>\n",
       "  <tbody>\n",
       "    <tr>\n",
       "      <th>2010</th>\n",
       "      <td>Licensed Centers</td>\n",
       "      <td>7</td>\n",
       "      <td>746.1601</td>\n",
       "      <td>921</td>\n",
       "      <td>1%</td>\n",
       "      <td>NaN</td>\n",
       "    </tr>\n",
       "    <tr>\n",
       "      <th>2011</th>\n",
       "      <td>Licensed Centers</td>\n",
       "      <td>9</td>\n",
       "      <td>746.1601</td>\n",
       "      <td>872</td>\n",
       "      <td>0.9%</td>\n",
       "      <td>8019.0</td>\n",
       "    </tr>\n",
       "    <tr>\n",
       "      <th>2012</th>\n",
       "      <td>Licensed Centers</td>\n",
       "      <td>9</td>\n",
       "      <td>746.1601</td>\n",
       "      <td>839</td>\n",
       "      <td>0.9%</td>\n",
       "      <td>8104.0</td>\n",
       "    </tr>\n",
       "    <tr>\n",
       "      <th>2013</th>\n",
       "      <td>Licensed Centers</td>\n",
       "      <td>9</td>\n",
       "      <td>746.1601</td>\n",
       "      <td>937</td>\n",
       "      <td>1%</td>\n",
       "      <td>7976.0</td>\n",
       "    </tr>\n",
       "    <tr>\n",
       "      <th>2014</th>\n",
       "      <td>Licensed Centers</td>\n",
       "      <td>7</td>\n",
       "      <td>746.1601</td>\n",
       "      <td>885</td>\n",
       "      <td>1.1%</td>\n",
       "      <td>7941.0</td>\n",
       "    </tr>\n",
       "    <tr>\n",
       "      <th>2015</th>\n",
       "      <td>Licensed Centers</td>\n",
       "      <td>7</td>\n",
       "      <td>746.1601</td>\n",
       "      <td>861</td>\n",
       "      <td>1.3%</td>\n",
       "      <td>7888.0</td>\n",
       "    </tr>\n",
       "    <tr>\n",
       "      <th>2016</th>\n",
       "      <td>Licensed Centers</td>\n",
       "      <td>8</td>\n",
       "      <td>746.1601</td>\n",
       "      <td>659</td>\n",
       "      <td>1.1%</td>\n",
       "      <td>7957.0</td>\n",
       "    </tr>\n",
       "    <tr>\n",
       "      <th>2017</th>\n",
       "      <td>Licensed Centers</td>\n",
       "      <td>9</td>\n",
       "      <td>746.1601</td>\n",
       "      <td>611</td>\n",
       "      <td>1%</td>\n",
       "      <td>7991.0</td>\n",
       "    </tr>\n",
       "  </tbody>\n",
       "</table>\n",
       "</div>"
      ],
      "text/plain": [
       "               OperationType  Rank RuleNumber  NumberofDeficiencies  \\\n",
       "FiscalYear                                                            \n",
       "2010        Licensed Centers     7   746.1601                   921   \n",
       "2011        Licensed Centers     9   746.1601                   872   \n",
       "2012        Licensed Centers     9   746.1601                   839   \n",
       "2013        Licensed Centers     9   746.1601                   937   \n",
       "2014        Licensed Centers     7   746.1601                   885   \n",
       "2015        Licensed Centers     7   746.1601                   861   \n",
       "2016        Licensed Centers     8   746.1601                   659   \n",
       "2017        Licensed Centers     9   746.1601                   611   \n",
       "\n",
       "           PercentofTotal  NumberofOperations  \n",
       "FiscalYear                                     \n",
       "2010                   1%                 NaN  \n",
       "2011                 0.9%              8019.0  \n",
       "2012                 0.9%              8104.0  \n",
       "2013                   1%              7976.0  \n",
       "2014                 1.1%              7941.0  \n",
       "2015                 1.3%              7888.0  \n",
       "2016                 1.1%              7957.0  \n",
       "2017                   1%              7991.0  "
      ]
     },
     "execution_count": 4,
     "metadata": {},
     "output_type": "execute_result"
    }
   ],
   "source": [
    "dat_violation_operation = dat.query(\n",
    "    'RuleNumber == \"746.1601\"'\n",
    ").set_index('FiscalYear').join(\n",
    "    dat_operation_counts.query(\n",
    "        'OperationType == \"LCCC-Child Care Program\"'\n",
    "    ).query(\n",
    "        'Region == \"STATEWIDE\"'\n",
    "    ).groupby(\n",
    "        'FiscalYear'\n",
    "    ).NumberofOperations.sum(),\n",
    "    how='outer'\n",
    ")\n",
    "# .to_csv('../export/ratio_violations.csv')\n",
    "\n",
    "dat_violation_operation"
   ]
  },
  {
   "cell_type": "code",
   "execution_count": 5,
   "metadata": {},
   "outputs": [
    {
     "data": {
      "image/png": "[encoded data removed]",
      "text/plain": [
       "<matplotlib.figure.Figure at 0x11878c828>"
      ]
     },
     "metadata": {},
     "output_type": "display_data"
    }
   ],
   "source": [
    "dat_violation_operation.assign(\n",
    "    ratio_ratio = lambda x: x.NumberofDeficiencies / (x.NumberofOperations / 100)\n",
    ").ratio_ratio.plot(kind='bar')\n",
    "\n",
    "plt.title('Ratio violations per 100 LCCC operations')\n",
    "\n",
    "plt.show()"
   ]
  },
  {
   "cell_type": "code",
   "execution_count": 6,
   "metadata": {},
   "outputs": [
    {
     "data": {
      "image/png": "[encoded data removed]",
      "text/plain": [
       "<matplotlib.figure.Figure at 0x1187e5400>"
      ]
     },
     "metadata": {},
     "output_type": "display_data"
    }
   ],
   "source": [
    "dat_violation_operation.assign(\n",
    "    ratio_ratio = lambda x: x.NumberofDeficiencies\n",
    ").ratio_ratio.plot(kind='bar')\n",
    "\n",
    "plt.title('Total LCCC ratio violations')\n",
    "\n",
    "plt.show()"
   ]
  },
  {
   "cell_type": "code",
   "execution_count": null,
   "metadata": {},
   "outputs": [],
   "source": []
  }
 ],
 "metadata": {
  "kernelspec": {
   "display_name": "Python 3",
   "language": "python",
   "name": "python3"
  },
  "language_info": {
   "codemirror_mode": {
    "name": "ipython",
    "version": 3
   },
   "file_extension": ".py",
   "mimetype": "text/x-python",
   "name": "python",
   "nbconvert_exporter": "python",
   "pygments_lexer": "ipython3",
   "version": "3.6.1"
  }
 },
 "nbformat": 4,
 "nbformat_minor": 2
}
