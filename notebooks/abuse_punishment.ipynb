{
 "cells": [
  {
   "cell_type": "markdown",
   "metadata": {},
   "source": [
    "# Abuse and punishment\n",
    "\n",
    "Querying Feb. 1 data for all violations involving abuse and punishment for background information."
   ]
  },
  {
   "cell_type": "code",
   "execution_count": 1,
   "metadata": {},
   "outputs": [],
   "source": [
    "import pandas as pd"
   ]
  },
  {
   "cell_type": "code",
   "execution_count": 2,
   "metadata": {},
   "outputs": [],
   "source": [
    "non_compliance = pd.read_csv('../csv/dfps-2018-02-01/non_compliance.csv').drop('Unnamed: 0', axis=1)\n",
    "operations = pd.read_csv('../csv/dfps-2018-02-01/operations.csv').drop('Unnamed: 0', axis=1)\n",
    "inspections = pd.read_csv('../csv/dfps-2018-02-01/assessment.csv').drop('Unnamed: 0', axis=1)"
   ]
  },
  {
   "cell_type": "code",
   "execution_count": 3,
   "metadata": {},
   "outputs": [],
   "source": [
    "abuse_punishment = non_compliance.assign(\n",
    "    cruel = lambda x: x.STANDARD_NUMBER_DESCRIPTION.str.lower().isin(\n",
    "        pd.Series(list(filter(\n",
    "            lambda x: 'harsh, cruel' in x,\n",
    "            [a for a in non_compliance.STANDARD_NUMBER_DESCRIPTION.str.lower().unique()]\n",
    "        )))\n",
    "    ) | x.STANDARD_NUMBER_DESCRIPTION.isin([\n",
    "        '746.2805(4) - Prohibited Punishments - Hitting with Hand or Instrument',\n",
    "        '746.2805(3) - Prohibited Punishments - Pinching, Shaking, or Biting',\n",
    "        '746.2805(8) - Prohibited Punishments -Placing Child in Locked, Dark Room'\n",
    "    ])\n",
    ").merge(\n",
    "    operations,\n",
    "    on='OPERATION_ID'\n",
    ").query(\n",
    "    'OPERATION_TYPE != \"Child Placing Agency\" & OPERATION_TYPE != \"General Residential Operation\"'\n",
    ").query('cruel == True').append(\n",
    "    non_compliance.assign(\n",
    "        cruel = lambda x: x.STANDARD_NUMBER_DESCRIPTION.str.lower().isin(\n",
    "            pd.Series(list(filter(\n",
    "                lambda x: 'neglected' in x,\n",
    "                [a for a in non_compliance.STANDARD_NUMBER_DESCRIPTION.str.lower().unique()]\n",
    "            )))\n",
    "        )\n",
    "    ).merge(\n",
    "        operations,\n",
    "        on='OPERATION_ID'\n",
    "    ).query(\n",
    "        'OPERATION_TYPE != \"Child Placing Agency\" & OPERATION_TYPE != \"General Residential Operation\"'\n",
    "    ).query('cruel == True').set_index(\n",
    "        'ACTIVITY_ID'\n",
    "    )\n",
    ")[[\n",
    "    'OPERATION_NAME', 'LOCATION_ADDRESS', 'COUNTY',\n",
    "    'STANDARD_NUMBER_DESCRIPTION',\n",
    "    'CORRECTED_DATE',\n",
    "    'NARRATIVE', 'TECHNICAL_ASSISTANCE_GIVEN', 'OPERATION_TYPE',\n",
    "]].assign(\n",
    "    in_timeframe = lambda x: pd.to_datetime(x.CORRECTED_DATE).apply(\n",
    "        lambda x: x >= pd.to_datetime('2016-02-01')\n",
    "    )\n",
    ").query('in_timeframe').drop(\n",
    "    'in_timeframe', axis=1\n",
    ")"
   ]
  },
  {
   "cell_type": "code",
   "execution_count": 4,
   "metadata": {},
   "outputs": [],
   "source": [
    "abuse_punishment.to_csv(\n",
    "    '../export/abuse_punishment.csv',\n",
    "    index=False\n",
    ")"
   ]
  },
  {
   "cell_type": "code",
   "execution_count": null,
   "metadata": {},
   "outputs": [],
   "source": []
  }
 ],
 "metadata": {
  "kernelspec": {
   "display_name": "Python 3",
   "language": "python",
   "name": "python3"
  },
  "language_info": {
   "codemirror_mode": {
    "name": "ipython",
    "version": 3
   },
   "file_extension": ".py",
   "mimetype": "text/x-python",
   "name": "python",
   "nbconvert_exporter": "python",
   "pygments_lexer": "ipython3",
   "version": "3.6.1"
  }
 },
 "nbformat": 4,
 "nbformat_minor": 2
}
