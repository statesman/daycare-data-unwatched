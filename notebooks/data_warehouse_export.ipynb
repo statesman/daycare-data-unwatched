{
 "cells": [
  {
   "cell_type": "code",
   "execution_count": 1,
   "metadata": {},
   "outputs": [],
   "source": [
    "import pandas as pd"
   ]
  },
  {
   "cell_type": "markdown",
   "metadata": {},
   "source": [
    "# Daycare injuries\n",
    "\n",
    "This notebook joins and exports DFPS datasets so data warehouse users can review daycare violations for potential injuries and other characteristics. It uses data exported Feb 1, 2018."
   ]
  },
  {
   "cell_type": "code",
   "execution_count": 2,
   "metadata": {},
   "outputs": [],
   "source": [
    "non_compliance = pd.read_csv('../csv/dfps-2018-02-01/non_compliance.csv').drop('Unnamed: 0', axis=1)\n",
    "operations = pd.read_csv('../csv/dfps-2018-02-01/operations.csv').drop('Unnamed: 0', axis=1)\n",
    "inspections = pd.read_csv('../csv/dfps-2018-02-01/assessment.csv').drop('Unnamed: 0', axis=1)"
   ]
  },
  {
   "cell_type": "code",
   "execution_count": 3,
   "metadata": {},
   "outputs": [],
   "source": [
    "import re\n",
    "# Get potential injury violations\n",
    "\n",
    "keywords = [\n",
    "    'hurt',\n",
    "    'bruis',\n",
    "    'injur',\n",
    "    'fractur',\n",
    "    'conscious',\n",
    "    'lacerat'\n",
    "]\n",
    "\n",
    "keywords_high = [\n",
    "    'burn(?! cream)',\n",
    "    'sprain',\n",
    "    'concuss',\n",
    "    'seizure',\n",
    "    'vomit',\n",
    "    'tooth (?!brush|paste)',\n",
    "    'teeth ',\n",
    "    'responsiv',\n",
    "]\n",
    "\n",
    "POTENTIAL_INJURY_KEYWORDS = '|'.join(keywords)\n",
    "\n",
    "POTENTIAL_INJURY_KEYWORDS_HIGH = '|'.join(keywords_high)\n",
    "\n",
    "potential_injury_violations = pd.concat([\n",
    "    non_compliance[\n",
    "        non_compliance.STANDARD_NUMBER_DESCRIPTION.str.contains(\n",
    "            'injur',\n",
    "            regex=True,\n",
    "            flags=re.IGNORECASE\n",
    "        ) |\n",
    "        non_compliance.NARRATIVE.str.contains(\n",
    "            POTENTIAL_INJURY_KEYWORDS,\n",
    "            regex=True,\n",
    "            flags=re.IGNORECASE\n",
    "        )\n",
    "    ],\n",
    "    non_compliance[\n",
    "        non_compliance.NARRATIVE.fillna('').str.contains(\n",
    "            POTENTIAL_INJURY_KEYWORDS_HIGH,\n",
    "            regex=True,\n",
    "            flags=re.IGNORECASE\n",
    "        )\n",
    "    ].query(\n",
    "        'STANDARD_RISK_LEVEL == \"High\" | STANDARD_RISK_LEVEL == \"Medium High\"'\n",
    "    ),\n",
    "    non_compliance[\n",
    "        non_compliance.NARRATIVE.astype(str).str.contains(\n",
    "            'brok|break(?!fast)',\n",
    "            regex=True,\n",
    "            flags=re.IGNORECASE\n",
    "        )\n",
    "    ].query('STANDARD_RISK_LEVEL == \"High\"')\n",
    "])"
   ]
  },
  {
   "cell_type": "code",
   "execution_count": 4,
   "metadata": {},
   "outputs": [],
   "source": [
    "# Get all violations from inspections\n",
    "# where a potential injury occurred.\n",
    "\n",
    "potential_injury_violations_and_related = non_compliance[\n",
    "    non_compliance.ACTIVITY_ID.isin(\n",
    "        potential_injury_violations.ACTIVITY_ID.unique()\n",
    "    )\n",
    "]"
   ]
  },
  {
   "cell_type": "code",
   "execution_count": 5,
   "metadata": {},
   "outputs": [],
   "source": [
    "export = potential_injury_violations_and_related.merge(\n",
    "    operations,\n",
    "    on='OPERATION_ID'\n",
    ").merge(\n",
    "    inspections.drop(\n",
    "        'OPERATION_ID',\n",
    "        axis=1\n",
    "    ),\n",
    "    on='ACTIVITY_ID'\n",
    ").assign(\n",
    "    # add a column to signify if violation has a potential injury\n",
    "    potential_injury = lambda x: x.STANDARD_NUMBER_DESCRIPTION.str.contains(\n",
    "        'injur',\n",
    "        regex=True,\n",
    "        flags=re.IGNORECASE\n",
    "    ) | x.NARRATIVE.str.contains(\n",
    "        POTENTIAL_INJURY_KEYWORDS,\n",
    "        regex=True,\n",
    "        flags=re.IGNORECASE\n",
    "    ) | x.NARRATIVE.str.contains(\n",
    "        POTENTIAL_INJURY_KEYWORDS_HIGH,\n",
    "        regex=True,\n",
    "        flags=re.IGNORECASE\n",
    "    )\n",
    ").query(\n",
    "    'OPERATION_TYPE != \"Child Placing Agency\" & OPERATION_TYPE != \"General Residential Operation\"'\n",
    ")"
   ]
  },
  {
   "cell_type": "code",
   "execution_count": 6,
   "metadata": {},
   "outputs": [],
   "source": [
    "export.to_csv('../export/export.csv')"
   ]
  },
  {
   "cell_type": "code",
   "execution_count": null,
   "metadata": {},
   "outputs": [],
   "source": []
  }
 ],
 "metadata": {
  "kernelspec": {
   "display_name": "Python 3",
   "language": "python",
   "name": "python3"
  },
  "language_info": {
   "codemirror_mode": {
    "name": "ipython",
    "version": 3
   },
   "file_extension": ".py",
   "mimetype": "text/x-python",
   "name": "python",
   "nbconvert_exporter": "python",
   "pygments_lexer": "ipython3",
   "version": "3.6.1"
  }
 },
 "nbformat": 4,
 "nbformat_minor": 2
}
