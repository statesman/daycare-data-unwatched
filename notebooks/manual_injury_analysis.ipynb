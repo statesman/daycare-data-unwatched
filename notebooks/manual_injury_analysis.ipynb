{
 "cells": [
  {
   "cell_type": "code",
   "execution_count": 1,
   "metadata": {},
   "outputs": [],
   "source": [
    "import pandas as pd\n",
    "import geopandas as gpd\n",
    "\n",
    "from IPython.display import HTML, display\n",
    "\n",
    "import matplotlib.pyplot as plt"
   ]
  },
  {
   "cell_type": "markdown",
   "metadata": {},
   "source": [
    "This notebook joins and exports DFPS datasets for manual review of violations for potential injuries and other characteristics. It uses data exported from the state data portal on Feb 1, 2018 and searches keywords in the violation narrative field for possible injuries.\n",
    "\n",
    "- [non-compliance](https://data.texas.gov/Social-Services/DFPS-CCL-Non-Compliance-Data/tqgd-mf4x)\n",
    "- [operations](https://data.texas.gov/Social-Services/DFPS-CCL-Daycare-and-Residential-Operations-Data/bc5r-88dy)\n",
    "- [inspections](https://data.texas.gov/Social-Services/DFPS-CCL-Inspection-Investigation-Assessment-Data/m5q4-3y3d)"
   ]
  },
  {
   "cell_type": "code",
   "execution_count": 2,
   "metadata": {},
   "outputs": [],
   "source": [
    "non_compliance = pd.read_csv('../src/dfps-2018-02-01/non_compliance.csv').drop('Unnamed: 0', axis=1)\n",
    "operations = pd.read_csv('../src/dfps-2018-02-01/operations.csv').drop('Unnamed: 0', axis=1)\n",
    "inspections = pd.read_csv('../src/dfps-2018-02-01/assessment.csv').drop('Unnamed: 0', axis=1)"
   ]
  },
  {
   "cell_type": "code",
   "execution_count": 3,
   "metadata": {},
   "outputs": [],
   "source": [
    "import re\n",
    "# Get potential injury violations\n",
    "\n",
    "keywords = [\n",
    "    'hurt',\n",
    "    'bruis',\n",
    "    'injur',\n",
    "    'fractur',\n",
    "    'conscious',\n",
    "    'lacerat'\n",
    "]\n",
    "\n",
    "keywords_high = [\n",
    "    'burn(?! cream)',\n",
    "    'sprain',\n",
    "    'concuss',\n",
    "    'seizure',\n",
    "    'vomit',\n",
    "    'tooth (?!brush|paste)',\n",
    "    'teeth ',\n",
    "    'responsiv',\n",
    "]\n",
    "\n",
    "POTENTIAL_INJURY_KEYWORDS = '|'.join(keywords)\n",
    "\n",
    "POTENTIAL_INJURY_KEYWORDS_HIGH = '|'.join(keywords_high)\n",
    "\n",
    "potential_injury_violations = pd.concat([\n",
    "    non_compliance[\n",
    "        non_compliance.STANDARD_NUMBER_DESCRIPTION.str.contains(\n",
    "            'injur',\n",
    "            regex=True,\n",
    "            flags=re.IGNORECASE\n",
    "        ) |\n",
    "        non_compliance.NARRATIVE.str.contains(\n",
    "            POTENTIAL_INJURY_KEYWORDS,\n",
    "            regex=True,\n",
    "            flags=re.IGNORECASE\n",
    "        )\n",
    "    ],\n",
    "    non_compliance[\n",
    "        non_compliance.NARRATIVE.fillna('').str.contains(\n",
    "            POTENTIAL_INJURY_KEYWORDS_HIGH,\n",
    "            regex=True,\n",
    "            flags=re.IGNORECASE\n",
    "        )\n",
    "    ].query(\n",
    "        'STANDARD_RISK_LEVEL == \"High\" | STANDARD_RISK_LEVEL == \"Medium High\"'\n",
    "    ),\n",
    "    non_compliance[\n",
    "        non_compliance.NARRATIVE.astype(str).str.contains(\n",
    "            'brok|break(?!fast)',\n",
    "            regex=True,\n",
    "            flags=re.IGNORECASE\n",
    "        )\n",
    "    ].query('STANDARD_RISK_LEVEL == \"High\"')\n",
    "])"
   ]
  },
  {
   "cell_type": "code",
   "execution_count": 4,
   "metadata": {},
   "outputs": [],
   "source": [
    "# Get all violations from inspections\n",
    "# where a potential injury occurred.\n",
    "\n",
    "potential_injury_violations_and_related = non_compliance[\n",
    "    non_compliance.ACTIVITY_ID.isin(\n",
    "        potential_injury_violations.ACTIVITY_ID.unique()\n",
    "    )\n",
    "]"
   ]
  },
  {
   "cell_type": "code",
   "execution_count": 5,
   "metadata": {},
   "outputs": [],
   "source": [
    "records_for_manual_review = potential_injury_violations_and_related.merge(\n",
    "    operations,\n",
    "    on='OPERATION_ID'\n",
    ").merge(\n",
    "    inspections.drop(\n",
    "        'OPERATION_ID',\n",
    "        axis=1\n",
    "    ),\n",
    "    on='ACTIVITY_ID'\n",
    ").assign(\n",
    "    # add a column to signify if violation has a potential injury\n",
    "    potential_injury = lambda x: x.STANDARD_NUMBER_DESCRIPTION.str.contains(\n",
    "        'injur',\n",
    "        regex=True,\n",
    "        flags=re.IGNORECASE\n",
    "    ) | x.NARRATIVE.str.contains(\n",
    "        POTENTIAL_INJURY_KEYWORDS,\n",
    "        regex=True,\n",
    "        flags=re.IGNORECASE\n",
    "    ) | x.NARRATIVE.str.contains(\n",
    "        POTENTIAL_INJURY_KEYWORDS_HIGH,\n",
    "        regex=True,\n",
    "        flags=re.IGNORECASE\n",
    "    )\n",
    ").query(\n",
    "    'OPERATION_TYPE != \"Child Placing Agency\" & OPERATION_TYPE != \"General Residential Operation\"'\n",
    ").where(\n",
    "    # Only take 2016-02-01 to 2018-02-01\n",
    "    lambda x: pd.to_datetime(x.ACTIVITY_DATE) >= pd.to_datetime('2016-02-01')\n",
    ")"
   ]
  },
  {
   "cell_type": "markdown",
   "metadata": {},
   "source": [
    "This code below analyzes day cares and inspections with violations that were manually determined to have involved injuries.\n",
    "\n",
    "The `dat_injure` dataframe has a row for every injury detail and related violation for every operation. Because of this, records are by `operation_id` when counting day cares."
   ]
  },
  {
   "cell_type": "code",
   "execution_count": 6,
   "metadata": {},
   "outputs": [],
   "source": [
    "dat_injure = pd.read_csv('../src/manual-injuries-mapped.csv')"
   ]
  },
  {
   "cell_type": "code",
   "execution_count": 7,
   "metadata": {},
   "outputs": [
    {
     "data": {
      "text/html": [
       "<p><strong>946</strong> inspections with an injury</p>"
      ],
      "text/plain": [
       "<IPython.core.display.HTML object>"
      ]
     },
     "execution_count": 7,
     "metadata": {},
     "output_type": "execute_result"
    }
   ],
   "source": [
    "HTML(\n",
    "    '<p><strong>{:,}</strong> inspections with an injury</p>'.format(\n",
    "        len(dat_injure.activity_id.unique())\n",
    "    )\n",
    ")"
   ]
  },
  {
   "cell_type": "code",
   "execution_count": 8,
   "metadata": {},
   "outputs": [
    {
     "data": {
      "text/html": [
       "<p><strong>495</strong> inspections with an injury not reported to parents or licensing</p>"
      ],
      "text/plain": [
       "<IPython.core.display.HTML object>"
      ]
     },
     "execution_count": 8,
     "metadata": {},
     "output_type": "execute_result"
    }
   ],
   "source": [
    "HTML(\n",
    "    '<p><strong>{:,}</strong> inspections with an injury not reported to parents or licensing</p>'.format(\n",
    "        len(\n",
    "            dat_injure.query(\n",
    "                'related_violation == \"Failure To Report Incident\"'\n",
    "            ).activity_id.unique()\n",
    "        )\n",
    "    )\n",
    ")"
   ]
  },
  {
   "cell_type": "code",
   "execution_count": 9,
   "metadata": {},
   "outputs": [
    {
     "data": {
      "text/html": [
       "<p><strong>434</strong> inspections with an injury that required medical care</p>"
      ],
      "text/plain": [
       "<IPython.core.display.HTML object>"
      ]
     },
     "execution_count": 9,
     "metadata": {},
     "output_type": "execute_result"
    }
   ],
   "source": [
    "HTML(\n",
    "    '<p><strong>{:,}</strong> inspections with an injury that required medical care</p>'.format(\n",
    "        len(\n",
    "            dat_injure.query(\n",
    "                'injury_detail == \"Medical care\"'\n",
    "            ).activity_id.unique()\n",
    "        )\n",
    "    )\n",
    ")"
   ]
  },
  {
   "cell_type": "code",
   "execution_count": 10,
   "metadata": {},
   "outputs": [
    {
     "data": {
      "text/html": [
       "<p><strong>187</strong> inspections with an injury and failure to supervise properly</p>"
      ],
      "text/plain": [
       "<IPython.core.display.HTML object>"
      ]
     },
     "execution_count": 10,
     "metadata": {},
     "output_type": "execute_result"
    }
   ],
   "source": [
    "HTML(\n",
    "    '<p><strong>{:,}</strong> inspections with an injury and failure to supervise properly</p>'.format(\n",
    "        len(\n",
    "            dat_injure.query(\n",
    "                'related_violation == \"Supervision\"'\n",
    "            ).activity_id.unique()\n",
    "        )\n",
    "    )\n",
    ")"
   ]
  },
  {
   "cell_type": "code",
   "execution_count": 11,
   "metadata": {},
   "outputs": [
    {
     "data": {
      "text/html": [
       "<p><strong>58</strong> inspections with an injury intentionally caused by daycare caregivers</p>"
      ],
      "text/plain": [
       "<IPython.core.display.HTML object>"
      ]
     },
     "execution_count": 11,
     "metadata": {},
     "output_type": "execute_result"
    }
   ],
   "source": [
    "HTML(\n",
    "    '<p><strong>{:,}</strong> inspections with an injury intentionally caused by daycare caregivers</p>'.format(\n",
    "        len(\n",
    "            dat_injure.query(\n",
    "                'injury_detail == \"Intentional\"'\n",
    "            ).activity_id.unique()\n",
    "        )\n",
    "    )\n",
    ")"
   ]
  }
 ],
 "metadata": {
  "kernelspec": {
   "display_name": "Python 3",
   "language": "python",
   "name": "python3"
  },
  "language_info": {
   "codemirror_mode": {
    "name": "ipython",
    "version": 3
   },
   "file_extension": ".py",
   "mimetype": "text/x-python",
   "name": "python",
   "nbconvert_exporter": "python",
   "pygments_lexer": "ipython3",
   "version": "3.6.1"
  }
 },
 "nbformat": 4,
 "nbformat_minor": 2
}
