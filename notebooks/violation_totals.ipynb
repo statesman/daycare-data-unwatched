{
 "cells": [
  {
   "cell_type": "code",
   "execution_count": 1,
   "metadata": {},
   "outputs": [],
   "source": [
    "import pandas as pd"
   ]
  },
  {
   "cell_type": "markdown",
   "metadata": {},
   "source": [
    "# Total violations\n",
    "\n",
    "Totaling deficiencies from operation listings.\n",
    "\n",
    "The first table shows daycares with at least 100 violations of any severity as of Feb. 1."
   ]
  },
  {
   "cell_type": "code",
   "execution_count": 2,
   "metadata": {},
   "outputs": [
    {
     "name": "stdout",
     "output_type": "stream",
     "text": [
      "7 daycares with at least 100 violations\n"
     ]
    }
   ],
   "source": [
    "dat_operations = pd.read_csv(\n",
    "    '../csv/dfps-2018-02-01/operations.csv'\n",
    ").query(\n",
    "    'OPERATION_TYPE != \"Child Placing Agency\" & OPERATION_TYPE != \"General Residential Operation\"'\n",
    ")[[\n",
    "    'OPERATION_ID',\n",
    "    'OPERATION_TYPE',\n",
    "    'OPERATION_NUMBER',\n",
    "    'OPERATION_NAME',\n",
    "    'LOCATION_ADDRESS',\n",
    "    'COUNTY',\n",
    "    'DEFICIENCY_HIGH',\n",
    "    'DEFICIENCY_MEDIUM_HIGH',\n",
    "    'DEFICIENCY_MEDIUM',\n",
    "    'DEFICIENCY_MEDIUM_LOW',\n",
    "    'DEFICIENCY_LOW'\n",
    "]].set_index([\n",
    "    'OPERATION_ID',\n",
    "    'OPERATION_TYPE',\n",
    "    'OPERATION_NUMBER',\n",
    "    'OPERATION_NAME',\n",
    "    'LOCATION_ADDRESS',\n",
    "    'COUNTY'\n",
    "]).assign(\n",
    "    total_violations = lambda x: x.DEFICIENCY_HIGH +\n",
    "        x.DEFICIENCY_MEDIUM_HIGH +\n",
    "        x.DEFICIENCY_MEDIUM +\n",
    "        x.DEFICIENCY_MEDIUM_LOW +\n",
    "        x.DEFICIENCY_LOW\n",
    ")\n",
    "\n",
    "print('{} daycares with at least 100 violations'.format(\n",
    "    len(dat_operations.sort_values('total_violations', ascending=False).query(\n",
    "        'total_violations >= 100'\n",
    "    ).index)\n",
    "))\n",
    "\n",
    "dat_operations.sort_values('total_violations', ascending=False).query(\n",
    "    'total_violations >= 100'\n",
    ")[[\n",
    "    'total_violations'\n",
    "]].to_clipboard()"
   ]
  },
  {
   "cell_type": "code",
   "execution_count": 3,
   "metadata": {},
   "outputs": [
    {
     "name": "stdout",
     "output_type": "stream",
     "text": [
      "116 daycares with at least 50 violations\n"
     ]
    }
   ],
   "source": [
    "dat_operations = pd.read_csv(\n",
    "    '../csv/dfps-2018-02-01/operations.csv'\n",
    ").query(\n",
    "    'OPERATION_TYPE != \"Child Placing Agency\" & OPERATION_TYPE != \"General Residential Operation\"'\n",
    ")[[\n",
    "    'OPERATION_ID',\n",
    "    'OPERATION_TYPE',\n",
    "    'OPERATION_NUMBER',\n",
    "    'OPERATION_NAME',\n",
    "    'LOCATION_ADDRESS',\n",
    "    'COUNTY',\n",
    "    'DEFICIENCY_HIGH',\n",
    "    'DEFICIENCY_MEDIUM_HIGH',\n",
    "    'DEFICIENCY_MEDIUM',\n",
    "    'DEFICIENCY_MEDIUM_LOW',\n",
    "    'DEFICIENCY_LOW'\n",
    "]].set_index([\n",
    "    'OPERATION_ID',\n",
    "    'OPERATION_TYPE',\n",
    "    'OPERATION_NUMBER',\n",
    "    'OPERATION_NAME',\n",
    "    'LOCATION_ADDRESS',\n",
    "    'COUNTY'\n",
    "]).assign(\n",
    "    total_violations = lambda x: x.DEFICIENCY_HIGH +\n",
    "        x.DEFICIENCY_MEDIUM_HIGH +\n",
    "        x.DEFICIENCY_MEDIUM +\n",
    "        x.DEFICIENCY_MEDIUM_LOW +\n",
    "        x.DEFICIENCY_LOW\n",
    ")\n",
    "\n",
    "print('{} daycares with at least 50 violations'.format(\n",
    "    len(dat_operations.sort_values('total_violations', ascending=False).query(\n",
    "        'total_violations >= 50'\n",
    "    ).index)\n",
    "))\n",
    "\n",
    "dat_operations.sort_values(\n",
    "    'total_violations', ascending=False\n",
    ").to_clipboard()"
   ]
  },
  {
   "cell_type": "markdown",
   "metadata": {},
   "source": [
    "The table below queries the live database and shows daycares with at least 100 violations of any severity."
   ]
  },
  {
   "cell_type": "code",
   "execution_count": 4,
   "metadata": {},
   "outputs": [
    {
     "name": "stdout",
     "output_type": "stream",
     "text": [
      "26 daycares with at least 100 violations\n"
     ]
    }
   ],
   "source": [
    "dat_live_operations = pd.read_csv(\n",
    "    'https://data.texas.gov/api/views/bc5r-88dy/rows.csv?accessType=DOWNLOAD'\n",
    ").query(\n",
    "    'OPERATION_TYPE != \"Child Placing Agency\" & OPERATION_TYPE != \"General Residential Operation\"'\n",
    ")[[\n",
    "    'OPERATION_ID',\n",
    "    'OPERATION_TYPE',\n",
    "    'OPERATION_NUMBER',\n",
    "    'OPERATION_NAME',\n",
    "    'LOCATION_ADDRESS',\n",
    "    'COUNTY',\n",
    "    'DEFICIENCY_HIGH',\n",
    "    'DEFICIENCY_MEDIUM_HIGH',\n",
    "    'DEFICIENCY_MEDIUM',\n",
    "    'DEFICIENCY_MEDIUM_LOW',\n",
    "    'DEFICIENCY_LOW'\n",
    "]].set_index([\n",
    "    'OPERATION_ID',\n",
    "    'OPERATION_TYPE',\n",
    "    'OPERATION_NUMBER',\n",
    "    'OPERATION_NAME',\n",
    "    'LOCATION_ADDRESS',\n",
    "    'COUNTY'\n",
    "]).assign(\n",
    "    total_violations = lambda x: x.DEFICIENCY_HIGH +\n",
    "        x.DEFICIENCY_MEDIUM_HIGH +\n",
    "        x.DEFICIENCY_MEDIUM +\n",
    "        x.DEFICIENCY_MEDIUM_LOW +\n",
    "        x.DEFICIENCY_LOW\n",
    ")\n",
    "\n",
    "print('{} daycares with at least 100 violations'.format(\n",
    "    len(dat_live_operations.sort_values('total_violations', ascending=False).query(\n",
    "        'total_violations >= 100'\n",
    "    ).index)\n",
    "))\n",
    "\n",
    "dat_live_operations.sort_values('total_violations', ascending=False).query(\n",
    "    'total_violations >= 100'\n",
    ")[[\n",
    "    'total_violations'\n",
    "]].to_clipboard()"
   ]
  },
  {
   "cell_type": "code",
   "execution_count": 5,
   "metadata": {},
   "outputs": [
    {
     "name": "stdout",
     "output_type": "stream",
     "text": [
      "263 daycares with at least 50 violations\n"
     ]
    }
   ],
   "source": [
    "print('{} daycares with at least 50 violations'.format(\n",
    "    len(dat_live_operations.sort_values('total_violations', ascending=False).query(\n",
    "        'total_violations >= 50'\n",
    "    ).index)\n",
    "))"
   ]
  },
  {
   "cell_type": "markdown",
   "metadata": {},
   "source": [
    "Table below: of the daycares with at least 100 violations as of Feb. 1, which are still listed?"
   ]
  },
  {
   "cell_type": "code",
   "execution_count": 6,
   "metadata": {},
   "outputs": [
    {
     "data": {
      "text/html": [
       "<div>\n",
       "<style>\n",
       "    .dataframe thead tr:only-child th {\n",
       "        text-align: right;\n",
       "    }\n",
       "\n",
       "    .dataframe thead th {\n",
       "        text-align: left;\n",
       "    }\n",
       "\n",
       "    .dataframe tbody tr th {\n",
       "        vertical-align: top;\n",
       "    }\n",
       "</style>\n",
       "<table border=\"1\" class=\"dataframe\">\n",
       "  <thead>\n",
       "    <tr style=\"text-align: right;\">\n",
       "      <th></th>\n",
       "      <th></th>\n",
       "      <th></th>\n",
       "      <th></th>\n",
       "      <th></th>\n",
       "      <th></th>\n",
       "      <th>still_listed</th>\n",
       "    </tr>\n",
       "    <tr>\n",
       "      <th>OPERATION_ID</th>\n",
       "      <th>OPERATION_TYPE</th>\n",
       "      <th>OPERATION_NUMBER</th>\n",
       "      <th>OPERATION_NAME</th>\n",
       "      <th>LOCATION_ADDRESS</th>\n",
       "      <th>COUNTY</th>\n",
       "      <th></th>\n",
       "    </tr>\n",
       "  </thead>\n",
       "  <tbody>\n",
       "    <tr>\n",
       "      <th>1143847</th>\n",
       "      <th>Licensed Center</th>\n",
       "      <th>1538844</th>\n",
       "      <th>Rugratz Learning Academy</th>\n",
       "      <th>930 W MAIN ST  DENISON TX- 75020 3348</th>\n",
       "      <th>GRAYSON</th>\n",
       "      <td>False</td>\n",
       "    </tr>\n",
       "    <tr>\n",
       "      <th>1221905</th>\n",
       "      <th>Licensed Center</th>\n",
       "      <th>1606396</th>\n",
       "      <th>Learning Palace 2</th>\n",
       "      <th>9647 SOUTHWEST FWY  HOUSTON TX- 77074 1332</th>\n",
       "      <th>HARRIS</th>\n",
       "      <td>False</td>\n",
       "    </tr>\n",
       "    <tr>\n",
       "      <th>1153391</th>\n",
       "      <th>Licensed Center</th>\n",
       "      <th>1545543</th>\n",
       "      <th>All Star Kidz Learning Center</th>\n",
       "      <th>2703 W EXPWY 83  MISSION TX- 78572 7048</th>\n",
       "      <th>HIDALGO</th>\n",
       "      <td>True</td>\n",
       "    </tr>\n",
       "    <tr>\n",
       "      <th>1247270</th>\n",
       "      <th>Licensed Center</th>\n",
       "      <th>1627850</th>\n",
       "      <th>B &amp; 3Js Big Kidz Plaz, Inc</th>\n",
       "      <th>1201 W CAMP WISDOM RD STE 320 DALLAS TX- 75232 3446</th>\n",
       "      <th>DALLAS</th>\n",
       "      <td>True</td>\n",
       "    </tr>\n",
       "    <tr>\n",
       "      <th>314262</th>\n",
       "      <th>Licensed Center</th>\n",
       "      <th>871757</th>\n",
       "      <th>Little Feet &amp; Learning Day Care Center</th>\n",
       "      <th>1001 BRISTOL RD STE A LAREDO TX- 78045 8536</th>\n",
       "      <th>WEBB</th>\n",
       "      <td>True</td>\n",
       "    </tr>\n",
       "    <tr>\n",
       "      <th>1219078</th>\n",
       "      <th>Licensed Center</th>\n",
       "      <th>1603276</th>\n",
       "      <th>Lil Dragon Daycare</th>\n",
       "      <th>8502 PEARSALL RD  SAN ANTONIO TX- 78252 2662</th>\n",
       "      <th>BEXAR</th>\n",
       "      <td>True</td>\n",
       "    </tr>\n",
       "    <tr>\n",
       "      <th>1241212</th>\n",
       "      <th>Licensed Center</th>\n",
       "      <th>1623261</th>\n",
       "      <th>Early Learning Center</th>\n",
       "      <th>10851 SCARSDALE BLVD STE 700 HOUSTON TX- 77089 5742</th>\n",
       "      <th>HARRIS</th>\n",
       "      <td>True</td>\n",
       "    </tr>\n",
       "  </tbody>\n",
       "</table>\n",
       "</div>"
      ],
      "text/plain": [
       "                                                                                                                                                 still_listed\n",
       "OPERATION_ID OPERATION_TYPE  OPERATION_NUMBER OPERATION_NAME                         LOCATION_ADDRESS                                   COUNTY               \n",
       "1143847      Licensed Center 1538844          Rugratz Learning Academy               930 W MAIN ST  DENISON TX- 75020 3348              GRAYSON         False\n",
       "1221905      Licensed Center 1606396          Learning Palace 2                      9647 SOUTHWEST FWY  HOUSTON TX- 77074 1332         HARRIS          False\n",
       "1153391      Licensed Center 1545543          All Star Kidz Learning Center          2703 W EXPWY 83  MISSION TX- 78572 7048            HIDALGO          True\n",
       "1247270      Licensed Center 1627850          B & 3Js Big Kidz Plaz, Inc             1201 W CAMP WISDOM RD STE 320 DALLAS TX- 75232 ... DALLAS           True\n",
       "314262       Licensed Center 871757           Little Feet & Learning Day Care Center 1001 BRISTOL RD STE A LAREDO TX- 78045 8536        WEBB             True\n",
       "1219078      Licensed Center 1603276          Lil Dragon Daycare                     8502 PEARSALL RD  SAN ANTONIO TX- 78252 2662       BEXAR            True\n",
       "1241212      Licensed Center 1623261          Early Learning Center                  10851 SCARSDALE BLVD STE 700 HOUSTON TX- 77089 ... HARRIS           True"
      ]
     },
     "execution_count": 6,
     "metadata": {},
     "output_type": "execute_result"
    }
   ],
   "source": [
    "dat_operations.assign(\n",
    "    still_listed = lambda x: x.index.isin(dat_live_operations.index)\n",
    ").query(\n",
    "    'total_violations >= 100'\n",
    ")[['still_listed']].sort_values(\n",
    "    'still_listed'\n",
    ")"
   ]
  },
  {
   "cell_type": "markdown",
   "metadata": {},
   "source": [
    "### Test\n",
    "\n",
    "Compare operation violation totals to non-compliance table violation totals"
   ]
  },
  {
   "cell_type": "code",
   "execution_count": 7,
   "metadata": {},
   "outputs": [
    {
     "name": "stdout",
     "output_type": "stream",
     "text": [
      "Test passed\n"
     ]
    }
   ],
   "source": [
    "import unittest\n",
    "\n",
    "count_non_compliance = len(\n",
    "    pd.read_csv(\n",
    "        '../csv/dfps-2018-02-01/non_compliance.csv'\n",
    "    ).query('OPERATION_ID == {}'.format(\n",
    "        dat_operations.sort_values('total_violations',ascending=False\n",
    "        ).reset_index().OPERATION_ID.iloc[0]\n",
    "        )\n",
    "   ).index\n",
    ")\n",
    "\n",
    "count_operations = dat_operations.sort_values(\n",
    "    'total_violations',\n",
    "    ascending=False\n",
    ").iloc[0].total_violations\n",
    "\n",
    "if count_operations == count_non_compliance:\n",
    "    print('Test passed')\n",
    "else:\n",
    "    raise Exception('{} != {}'.format(\n",
    "        count_operations,\n",
    "        count_non_compliance\n",
    "    ))"
   ]
  },
  {
   "cell_type": "markdown",
   "metadata": {},
   "source": [
    "### Violation distribution"
   ]
  },
  {
   "cell_type": "code",
   "execution_count": 8,
   "metadata": {},
   "outputs": [
    {
     "name": "stdout",
     "output_type": "stream",
     "text": [
      "count    15070.000000\n",
      "mean         7.014798\n",
      "std          9.831177\n",
      "min          0.000000\n",
      "25%          1.000000\n",
      "50%          4.000000\n",
      "75%          9.000000\n",
      "max        214.000000\n",
      "Name: total_violations, dtype: float64\n"
     ]
    },
    {
     "data": {
      "text/html": [
       "<div>\n",
       "<style>\n",
       "    .dataframe thead tr:only-child th {\n",
       "        text-align: right;\n",
       "    }\n",
       "\n",
       "    .dataframe thead th {\n",
       "        text-align: left;\n",
       "    }\n",
       "\n",
       "    .dataframe tbody tr th {\n",
       "        vertical-align: top;\n",
       "    }\n",
       "</style>\n",
       "<table border=\"1\" class=\"dataframe\">\n",
       "  <thead>\n",
       "    <tr style=\"text-align: right;\">\n",
       "      <th></th>\n",
       "      <th>total_violations</th>\n",
       "    </tr>\n",
       "  </thead>\n",
       "  <tbody>\n",
       "    <tr>\n",
       "      <th>80.0%</th>\n",
       "      <td>11.0</td>\n",
       "    </tr>\n",
       "    <tr>\n",
       "      <th>90.0%</th>\n",
       "      <td>17.0</td>\n",
       "    </tr>\n",
       "    <tr>\n",
       "      <th>99.0%</th>\n",
       "      <td>46.0</td>\n",
       "    </tr>\n",
       "  </tbody>\n",
       "</table>\n",
       "</div>"
      ],
      "text/plain": [
       "       total_violations\n",
       "80.0%              11.0\n",
       "90.0%              17.0\n",
       "99.0%              46.0"
      ]
     },
     "execution_count": 8,
     "metadata": {},
     "output_type": "execute_result"
    }
   ],
   "source": [
    "print(dat_operations.total_violations.describe())\n",
    "\n",
    "pd.DataFrame(\n",
    "    dat_operations.total_violations.quantile((\n",
    "        .8, .9, .99\n",
    "    )).rename(\n",
    "        lambda x: '{:.1%}'.format(x)\n",
    "    )\n",
    ")"
   ]
  },
  {
   "cell_type": "code",
   "execution_count": 9,
   "metadata": {},
   "outputs": [
    {
     "name": "stdout",
     "output_type": "stream",
     "text": [
      "count    14998.00000\n",
      "mean         9.24690\n",
      "std         12.61579\n",
      "min          0.00000\n",
      "25%          2.00000\n",
      "50%          5.00000\n",
      "75%         12.00000\n",
      "max        172.00000\n",
      "Name: total_violations, dtype: float64\n"
     ]
    },
    {
     "data": {
      "text/html": [
       "<div>\n",
       "<style>\n",
       "    .dataframe thead tr:only-child th {\n",
       "        text-align: right;\n",
       "    }\n",
       "\n",
       "    .dataframe thead th {\n",
       "        text-align: left;\n",
       "    }\n",
       "\n",
       "    .dataframe tbody tr th {\n",
       "        vertical-align: top;\n",
       "    }\n",
       "</style>\n",
       "<table border=\"1\" class=\"dataframe\">\n",
       "  <thead>\n",
       "    <tr style=\"text-align: right;\">\n",
       "      <th></th>\n",
       "      <th>total_violations</th>\n",
       "    </tr>\n",
       "  </thead>\n",
       "  <tbody>\n",
       "    <tr>\n",
       "      <th>80.0%</th>\n",
       "      <td>14.0</td>\n",
       "    </tr>\n",
       "    <tr>\n",
       "      <th>90.0%</th>\n",
       "      <td>23.0</td>\n",
       "    </tr>\n",
       "    <tr>\n",
       "      <th>99.0%</th>\n",
       "      <td>59.0</td>\n",
       "    </tr>\n",
       "  </tbody>\n",
       "</table>\n",
       "</div>"
      ],
      "text/plain": [
       "       total_violations\n",
       "80.0%              14.0\n",
       "90.0%              23.0\n",
       "99.0%              59.0"
      ]
     },
     "execution_count": 9,
     "metadata": {},
     "output_type": "execute_result"
    }
   ],
   "source": [
    "print(dat_live_operations.total_violations.describe())\n",
    "\n",
    "pd.DataFrame(\n",
    "    dat_live_operations.total_violations.quantile((\n",
    "        .8, .9, .99\n",
    "    )).rename(\n",
    "        lambda x: '{:.1%}'.format(x)\n",
    "    )\n",
    ")"
   ]
  },
  {
   "cell_type": "code",
   "execution_count": 11,
   "metadata": {},
   "outputs": [
    {
     "data": {
      "text/plain": [
       "5.0"
      ]
     },
     "execution_count": 11,
     "metadata": {},
     "output_type": "execute_result"
    }
   ],
   "source": [
    "dat_live_operations.total_violations.median()"
   ]
  },
  {
   "cell_type": "code",
   "execution_count": null,
   "metadata": {},
   "outputs": [],
   "source": []
  }
 ],
 "metadata": {
  "kernelspec": {
   "display_name": "Python 3",
   "language": "python",
   "name": "python3"
  },
  "language_info": {
   "codemirror_mode": {
    "name": "ipython",
    "version": 3
   },
   "file_extension": ".py",
   "mimetype": "text/x-python",
   "name": "python",
   "nbconvert_exporter": "python",
   "pygments_lexer": "ipython3",
   "version": "3.6.1"
  }
 },
 "nbformat": 4,
 "nbformat_minor": 2
}
