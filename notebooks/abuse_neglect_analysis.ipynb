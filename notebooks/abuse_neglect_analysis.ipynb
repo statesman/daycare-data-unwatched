{
 "cells": [
  {
   "cell_type": "code",
   "execution_count": 1,
   "metadata": {
    "collapsed": true
   },
   "outputs": [],
   "source": [
    "import pandas as pd"
   ]
  },
  {
   "cell_type": "code",
   "execution_count": 2,
   "metadata": {
    "collapsed": true
   },
   "outputs": [],
   "source": [
    "# CSV converted from Chng_90546_ANInvRTB_2007_2017 (002).pdf, provided by\n",
    "# Texas Department of Family and Protective Services\n",
    "\n",
    "dat = pd.read_csv('../src/abuse-neglect.csv').rename(\n",
    "    columns = lambda x: x.replace(' ', '_').lower()\n",
    ")"
   ]
  },
  {
   "cell_type": "code",
   "execution_count": 3,
   "metadata": {},
   "outputs": [
    {
     "data": {
      "text/html": [
       "<div>\n",
       "<style>\n",
       "    .dataframe thead tr:only-child th {\n",
       "        text-align: right;\n",
       "    }\n",
       "\n",
       "    .dataframe thead th {\n",
       "        text-align: left;\n",
       "    }\n",
       "\n",
       "    .dataframe tbody tr th {\n",
       "        vertical-align: top;\n",
       "    }\n",
       "</style>\n",
       "<table border=\"1\" class=\"dataframe\">\n",
       "  <thead>\n",
       "    <tr style=\"text-align: right;\">\n",
       "      <th></th>\n",
       "      <th>year</th>\n",
       "      <th>operation_number</th>\n",
       "      <th>operation_name</th>\n",
       "      <th>investigation_closed_date</th>\n",
       "      <th>allegation_type</th>\n",
       "    </tr>\n",
       "  </thead>\n",
       "  <tbody>\n",
       "    <tr>\n",
       "      <th>0</th>\n",
       "      <td>2007</td>\n",
       "      <td>125717</td>\n",
       "      <td>Good Shepherd Lutheran CCC</td>\n",
       "      <td>9/14/2007</td>\n",
       "      <td>Neglectful Supv.</td>\n",
       "    </tr>\n",
       "    <tr>\n",
       "      <th>1</th>\n",
       "      <td>2007</td>\n",
       "      <td>152442</td>\n",
       "      <td>Otis Klar Head Start</td>\n",
       "      <td>9/19/2007</td>\n",
       "      <td>Neglectful Supv.</td>\n",
       "    </tr>\n",
       "    <tr>\n",
       "      <th>2</th>\n",
       "      <td>2007</td>\n",
       "      <td>153836</td>\n",
       "      <td>ST. MARK'S EARLY EDUCATION PRO</td>\n",
       "      <td>3/1/2007</td>\n",
       "      <td>Neglectful Supv.</td>\n",
       "    </tr>\n",
       "    <tr>\n",
       "      <th>3</th>\n",
       "      <td>2007</td>\n",
       "      <td>176833</td>\n",
       "      <td>Doris Maittre</td>\n",
       "      <td>7/19/2007</td>\n",
       "      <td>Neglectful Supv.</td>\n",
       "    </tr>\n",
       "    <tr>\n",
       "      <th>4</th>\n",
       "      <td>2007</td>\n",
       "      <td>178179</td>\n",
       "      <td>La Petite Crosby</td>\n",
       "      <td>4/18/2007</td>\n",
       "      <td>Physical Neglect</td>\n",
       "    </tr>\n",
       "  </tbody>\n",
       "</table>\n",
       "</div>"
      ],
      "text/plain": [
       "   year  operation_number                  operation_name  \\\n",
       "0  2007            125717      Good Shepherd Lutheran CCC   \n",
       "1  2007            152442            Otis Klar Head Start   \n",
       "2  2007            153836  ST. MARK'S EARLY EDUCATION PRO   \n",
       "3  2007            176833                   Doris Maittre   \n",
       "4  2007            178179                La Petite Crosby   \n",
       "\n",
       "  investigation_closed_date   allegation_type  \n",
       "0                 9/14/2007  Neglectful Supv.  \n",
       "1                 9/19/2007  Neglectful Supv.  \n",
       "2                  3/1/2007  Neglectful Supv.  \n",
       "3                 7/19/2007  Neglectful Supv.  \n",
       "4                 4/18/2007  Physical Neglect  "
      ]
     },
     "execution_count": 3,
     "metadata": {},
     "output_type": "execute_result"
    }
   ],
   "source": [
    "dat.head()"
   ]
  },
  {
   "cell_type": "code",
   "execution_count": 4,
   "metadata": {},
   "outputs": [
    {
     "name": "stdout",
     "output_type": "stream",
     "text": [
      "3,217 abuse and neglect cases, 2007-2017\n"
     ]
    }
   ],
   "source": [
    "print(\n",
    "    '{:,} abuse and neglect cases, 2007-2017'.format(\n",
    "        dat.shape[0]\n",
    "    )\n",
    ")"
   ]
  },
  {
   "cell_type": "code",
   "execution_count": 5,
   "metadata": {},
   "outputs": [
    {
     "data": {
      "text/plain": [
       "2007    415\n",
       "2008    433\n",
       "2009    340\n",
       "2010    194\n",
       "2011    268\n",
       "2012    293\n",
       "2013    237\n",
       "2014    259\n",
       "2015    292\n",
       "2016    271\n",
       "2017    215\n",
       "Name: year, dtype: int64"
      ]
     },
     "execution_count": 5,
     "metadata": {},
     "output_type": "execute_result"
    }
   ],
   "source": [
    "dat.year.value_counts().sort_index()"
   ]
  },
  {
   "cell_type": "markdown",
   "metadata": {},
   "source": [
    "Sexual abuse by year"
   ]
  },
  {
   "cell_type": "code",
   "execution_count": 6,
   "metadata": {},
   "outputs": [
    {
     "data": {
      "text/plain": [
       "2007    51\n",
       "2008    44\n",
       "2009    36\n",
       "2010    38\n",
       "2011    27\n",
       "2012    58\n",
       "2013    28\n",
       "2014    39\n",
       "2015    42\n",
       "2016    54\n",
       "2017    35\n",
       "Name: year, dtype: int64"
      ]
     },
     "execution_count": 6,
     "metadata": {},
     "output_type": "execute_result"
    }
   ],
   "source": [
    "dat.query(\n",
    "    'allegation_type == \"Sexual Abuse\"'\n",
    ").year.value_counts().sort_index()"
   ]
  },
  {
   "cell_type": "code",
   "execution_count": 7,
   "metadata": {},
   "outputs": [
    {
     "name": "stdout",
     "output_type": "stream",
     "text": [
      "452 sexual abuse cases, 2007-2017\n"
     ]
    }
   ],
   "source": [
    "print(\n",
    "    '{} sexual abuse cases, 2007-2017'.format(\n",
    "        dat.query(\n",
    "            'allegation_type == \"Sexual Abuse\"'\n",
    "        ).shape[0]\n",
    "    )\n",
    ")"
   ]
  },
  {
   "cell_type": "code",
   "execution_count": null,
   "metadata": {},
   "outputs": [],
   "source": []
  }
 ],
 "metadata": {
  "kernelspec": {
   "display_name": "Python 3",
   "language": "python",
   "name": "python3"
  },
  "language_info": {
   "codemirror_mode": {
    "name": "ipython",
    "version": 3
   },
   "file_extension": ".py",
   "mimetype": "text/x-python",
   "name": "python",
   "nbconvert_exporter": "python",
   "pygments_lexer": "ipython3",
   "version": "3.6.1"
  }
 },
 "nbformat": 4,
 "nbformat_minor": 2
}
