{
 "cells": [
  {
   "cell_type": "markdown",
   "metadata": {},
   "source": [
    "# Prohibited punishment violations\n",
    "\n",
    "Queries [violation](https://data.texas.gov/Social-Services/DFPS-CCL-Non-Compliance-Data/tqgd-mf4x), [operation](https://data.texas.gov/Social-Services/DFPS-CCL-Daycare-and-Residential-Operations-Data/bc5r-88dy) and [assessment](https://data.texas.gov/Social-Services/DFPS-CCL-Inspection-Investigation-Assessment-Data/m5q4-3y3d) datasets downloaded from the state data portal on Feb. 1, 2018, against a spreadsheet of fines provided by the Texas Health and Human Services Commission."
   ]
  },
  {
   "cell_type": "code",
   "execution_count": 1,
   "metadata": {
    "collapsed": true
   },
   "outputs": [],
   "source": [
    "import pandas as pd"
   ]
  },
  {
   "cell_type": "code",
   "execution_count": 2,
   "metadata": {
    "collapsed": true
   },
   "outputs": [],
   "source": [
    "non_compliance = pd.read_csv('../src/dfps-2018-02-01/non_compliance.csv').drop('Unnamed: 0', axis=1)\n",
    "operations = pd.read_csv('../src/dfps-2018-02-01/operations.csv').drop('Unnamed: 0', axis=1)\n",
    "inspections = pd.read_csv('../src/dfps-2018-02-01/assessment.csv').drop('Unnamed: 0', axis=1)"
   ]
  },
  {
   "cell_type": "code",
   "execution_count": 3,
   "metadata": {
    "collapsed": true
   },
   "outputs": [],
   "source": [
    "punishment = non_compliance.assign(\n",
    "    cruel = lambda x: x.STANDARD_NUMBER_DESCRIPTION.str.lower().isin(\n",
    "        pd.Series(list(filter(\n",
    "            lambda x: 'harsh, cruel' in x,\n",
    "            [a for a in non_compliance.STANDARD_NUMBER_DESCRIPTION.str.lower().unique()]\n",
    "        )))\n",
    "    ) | x.STANDARD_NUMBER_DESCRIPTION.isin([\n",
    "        '746.2805(4) - Prohibited Punishments - Hitting with Hand or Instrument',\n",
    "        '746.2805(3) - Prohibited Punishments - Pinching, Shaking, or Biting',\n",
    "        '746.2805(8) - Prohibited Punishments -Placing Child in Locked, Dark Room'\n",
    "    ])\n",
    ").merge(\n",
    "    operations,\n",
    "    on='OPERATION_ID'\n",
    ").query(\n",
    "    'OPERATION_TYPE != \"Child Placing Agency\" & OPERATION_TYPE != \"General Residential Operation\"'\n",
    ").query('cruel == True').append(\n",
    "    non_compliance.assign(\n",
    "        cruel = lambda x: x.STANDARD_NUMBER_DESCRIPTION.str.lower().isin(\n",
    "            pd.Series(list(filter(\n",
    "                lambda x: 'neglected' in x,\n",
    "                [a for a in non_compliance.STANDARD_NUMBER_DESCRIPTION.str.lower().unique()]\n",
    "            )))\n",
    "        )\n",
    "    ).merge(\n",
    "        operations,\n",
    "        on='OPERATION_ID'\n",
    "    ).query(\n",
    "        'OPERATION_TYPE != \"Child Placing Agency\" & OPERATION_TYPE != \"General Residential Operation\"'\n",
    "    ).query('cruel == True').set_index(\n",
    "        'ACTIVITY_ID'\n",
    "    )\n",
    ")[[\n",
    "    'OPERATION_ID', 'OPERATION_NAME', 'LOCATION_ADDRESS', 'COUNTY',\n",
    "    'STANDARD_NUMBER_DESCRIPTION',\n",
    "    'CORRECTED_DATE',\n",
    "    'NARRATIVE', 'TECHNICAL_ASSISTANCE_GIVEN', 'OPERATION_TYPE',\n",
    "]].assign(\n",
    "    in_timeframe = lambda x: pd.to_datetime(x.CORRECTED_DATE).apply(\n",
    "        lambda x: x >= pd.to_datetime('2016-02-01')\n",
    "    )\n",
    ").query('in_timeframe').drop(\n",
    "    'in_timeframe', axis=1\n",
    ")"
   ]
  },
  {
   "cell_type": "code",
   "execution_count": 4,
   "metadata": {
    "collapsed": true
   },
   "outputs": [],
   "source": [
    "# Export for database\n",
    "punishment.to_csv(\n",
    "    '../database/punishment.csv',\n",
    "    index=False\n",
    ")"
   ]
  },
  {
   "cell_type": "code",
   "execution_count": 5,
   "metadata": {
    "collapsed": true
   },
   "outputs": [],
   "source": [
    "fines = pd.read_excel(\n",
    "    '../Fines.xlsx',\n",
    "    skiprows=3,\n",
    "    skip_footer=1,\n",
    "    converters={'Operation Number': int}\n",
    ").rename(\n",
    "    columns = lambda x: x.replace(' ', '')\n",
    ")"
   ]
  },
  {
   "cell_type": "code",
   "execution_count": 6,
   "metadata": {},
   "outputs": [
    {
     "data": {
      "text/html": [
       "<div>\n",
       "<style>\n",
       "    .dataframe thead tr:only-child th {\n",
       "        text-align: right;\n",
       "    }\n",
       "\n",
       "    .dataframe thead th {\n",
       "        text-align: left;\n",
       "    }\n",
       "\n",
       "    .dataframe tbody tr th {\n",
       "        vertical-align: top;\n",
       "    }\n",
       "</style>\n",
       "<table border=\"1\" class=\"dataframe\">\n",
       "  <thead>\n",
       "    <tr style=\"text-align: right;\">\n",
       "      <th></th>\n",
       "      <th>YearPenaltyPaid1</th>\n",
       "      <th>OperationNumber</th>\n",
       "      <th>OperationName</th>\n",
       "      <th>AmountFined</th>\n",
       "      <th>AmountPaid</th>\n",
       "    </tr>\n",
       "  </thead>\n",
       "  <tbody>\n",
       "    <tr>\n",
       "      <th>0</th>\n",
       "      <td>2003.0</td>\n",
       "      <td>558023</td>\n",
       "      <td>Levelland Christian School</td>\n",
       "      <td>60.0</td>\n",
       "      <td>60.0</td>\n",
       "    </tr>\n",
       "    <tr>\n",
       "      <th>1</th>\n",
       "      <td>2015.0</td>\n",
       "      <td>970046</td>\n",
       "      <td>Southbelt Montessori Learning Center</td>\n",
       "      <td>100.0</td>\n",
       "      <td>100.0</td>\n",
       "    </tr>\n",
       "    <tr>\n",
       "      <th>2</th>\n",
       "      <td>2015.0</td>\n",
       "      <td>1544977</td>\n",
       "      <td>United Kidz Academy San Antonio</td>\n",
       "      <td>150.0</td>\n",
       "      <td>150.0</td>\n",
       "    </tr>\n",
       "    <tr>\n",
       "      <th>3</th>\n",
       "      <td>2015.0</td>\n",
       "      <td>514294</td>\n",
       "      <td>Lucy's Day Care</td>\n",
       "      <td>50.0</td>\n",
       "      <td>50.0</td>\n",
       "    </tr>\n",
       "    <tr>\n",
       "      <th>4</th>\n",
       "      <td>2015.0</td>\n",
       "      <td>531697</td>\n",
       "      <td>Tiny Angels Day Care</td>\n",
       "      <td>50.0</td>\n",
       "      <td>50.0</td>\n",
       "    </tr>\n",
       "  </tbody>\n",
       "</table>\n",
       "</div>"
      ],
      "text/plain": [
       "   YearPenaltyPaid1 OperationNumber                         OperationName  \\\n",
       "0            2003.0          558023            Levelland Christian School   \n",
       "1            2015.0          970046  Southbelt Montessori Learning Center   \n",
       "2            2015.0         1544977       United Kidz Academy San Antonio   \n",
       "3            2015.0          514294                       Lucy's Day Care   \n",
       "4            2015.0          531697                  Tiny Angels Day Care   \n",
       "\n",
       "   AmountFined  AmountPaid  \n",
       "0         60.0        60.0  \n",
       "1        100.0       100.0  \n",
       "2        150.0       150.0  \n",
       "3         50.0        50.0  \n",
       "4         50.0        50.0  "
      ]
     },
     "execution_count": 6,
     "metadata": {},
     "output_type": "execute_result"
    }
   ],
   "source": [
    "fines.head()"
   ]
  },
  {
   "cell_type": "code",
   "execution_count": 7,
   "metadata": {},
   "outputs": [
    {
     "data": {
      "text/html": [
       "<div>\n",
       "<style>\n",
       "    .dataframe thead tr:only-child th {\n",
       "        text-align: right;\n",
       "    }\n",
       "\n",
       "    .dataframe thead th {\n",
       "        text-align: left;\n",
       "    }\n",
       "\n",
       "    .dataframe tbody tr th {\n",
       "        vertical-align: top;\n",
       "    }\n",
       "</style>\n",
       "<table border=\"1\" class=\"dataframe\">\n",
       "  <thead>\n",
       "    <tr style=\"text-align: right;\">\n",
       "      <th></th>\n",
       "      <th>YearPenaltyPaid1</th>\n",
       "      <th>OperationNumber</th>\n",
       "      <th>OperationName</th>\n",
       "      <th>AmountFined</th>\n",
       "      <th>AmountPaid</th>\n",
       "      <th>name_number</th>\n",
       "      <th>OPERATION_ID</th>\n",
       "      <th>OPERATION_NAME</th>\n",
       "      <th>LOCATION_ADDRESS</th>\n",
       "      <th>COUNTY</th>\n",
       "      <th>STANDARD_NUMBER_DESCRIPTION</th>\n",
       "      <th>CORRECTED_DATE</th>\n",
       "      <th>NARRATIVE</th>\n",
       "      <th>TECHNICAL_ASSISTANCE_GIVEN</th>\n",
       "      <th>OPERATION_TYPE</th>\n",
       "    </tr>\n",
       "  </thead>\n",
       "  <tbody>\n",
       "  </tbody>\n",
       "</table>\n",
       "</div>"
      ],
      "text/plain": [
       "Empty DataFrame\n",
       "Columns: [YearPenaltyPaid1, OperationNumber, OperationName, AmountFined, AmountPaid, name_number, OPERATION_ID, OPERATION_NAME, LOCATION_ADDRESS, COUNTY, STANDARD_NUMBER_DESCRIPTION, CORRECTED_DATE, NARRATIVE, TECHNICAL_ASSISTANCE_GIVEN, OPERATION_TYPE]\n",
       "Index: []"
      ]
     },
     "execution_count": 7,
     "metadata": {},
     "output_type": "execute_result"
    }
   ],
   "source": [
    "# Search operations cited for prohibited punishments in fines spreadsheet\n",
    "\n",
    "fines.assign(\n",
    "    name_number = lambda x: x.OperationName.astype(str) + x.OperationNumber.astype(str)\n",
    ").merge(\n",
    "    punishment.assign(\n",
    "        name_number = lambda x: x.OPERATION_NAME.astype(str) + x.OPERATION_ID.astype(str)\n",
    "    ),\n",
    "    on='name_number'\n",
    ")"
   ]
  },
  {
   "cell_type": "code",
   "execution_count": null,
   "metadata": {},
   "outputs": [],
   "source": []
  }
 ],
 "metadata": {
  "kernelspec": {
   "display_name": "Python 3",
   "language": "python",
   "name": "python3"
  },
  "language_info": {
   "codemirror_mode": {
    "name": "ipython",
    "version": 3
   },
   "file_extension": ".py",
   "mimetype": "text/x-python",
   "name": "python",
   "nbconvert_exporter": "python",
   "pygments_lexer": "ipython3",
   "version": "3.6.1"
  }
 },
 "nbformat": 4,
 "nbformat_minor": 2
}
