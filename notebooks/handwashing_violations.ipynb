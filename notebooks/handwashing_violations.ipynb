{
 "cells": [
  {
   "cell_type": "code",
   "execution_count": 1,
   "metadata": {},
   "outputs": [],
   "source": [
    "import pandas as pd"
   ]
  },
  {
   "cell_type": "markdown",
   "metadata": {},
   "source": [
    "# Handwashing violations\n",
    "\n",
    "Totaling deficiencies from operation listings with handwashing violations.\n",
    "\n",
    "Queries the standard number description for the violation code, but since there are many violations outside that code that involve “handwashing,” I also ran the numbers for violations with “handwashing” in the code"
   ]
  },
  {
   "cell_type": "code",
   "execution_count": 2,
   "metadata": {},
   "outputs": [],
   "source": [
    "dat_operations = pd.read_csv(\n",
    "    '../csv/dfps-2018-02-01/operations.csv'\n",
    ").query(\n",
    "    'OPERATION_TYPE != \"Child Placing Agency\" & OPERATION_TYPE != \"General Residential Operation\"'\n",
    ")\n",
    "\n",
    "non_compliance = pd.read_csv(\n",
    "    '../csv/dfps-2018-02-01/non_compliance.csv'\n",
    ").drop('Unnamed: 0', axis=1)"
   ]
  },
  {
   "cell_type": "code",
   "execution_count": 3,
   "metadata": {},
   "outputs": [
    {
     "name": "stdout",
     "output_type": "stream",
     "text": [
      "1,050 operations with \"handwashing\" violations\n",
      "465 operations with \"746\\.3417\" violations\n"
     ]
    }
   ],
   "source": [
    "import re\n",
    "\n",
    "print('{:,} operations with \\\"handwashing\\\" violations'.format(\n",
    "    len(non_compliance.assign(\n",
    "        handwash = lambda x: x.STANDARD_NUMBER_DESCRIPTION.str.contains(\n",
    "            'Handwashing',\n",
    "            regex=True,\n",
    "            flags=re.IGNORECASE\n",
    "        )\n",
    "    ).query('handwash').OPERATION_ID.unique())\n",
    "))\n",
    "\n",
    "print('{:,} operations with \"746\\.3417\" violations'.format(\n",
    "    len(non_compliance.assign(\n",
    "        handwash_code = lambda x: x.STANDARD_NUMBER_DESCRIPTION.str.contains('746\\.3417')\n",
    "    ).query('handwash_code').OPERATION_ID.unique())\n",
    "))"
   ]
  },
  {
   "cell_type": "code",
   "execution_count": 4,
   "metadata": {},
   "outputs": [],
   "source": [
    "dat_live_non_compliance = pd.read_csv(\n",
    "    'https://data.texas.gov/api/views/tqgd-mf4x/rows.csv?accessType=DOWNLOAD'\n",
    ").join(\n",
    "    pd.read_csv(\n",
    "        'https://data.texas.gov/api/views/bc5r-88dy/rows.csv?accessType=DOWNLOAD'\n",
    "    ).query(\n",
    "        'OPERATION_TYPE != \"Child Placing Agency\" & OPERATION_TYPE != \"General Residential Operation\"'\n",
    "    ),\n",
    "    on='OPERATION_ID',\n",
    "    lsuffix='',\n",
    "    rsuffix='_'\n",
    ")"
   ]
  },
  {
   "cell_type": "code",
   "execution_count": 5,
   "metadata": {},
   "outputs": [
    {
     "name": "stdout",
     "output_type": "stream",
     "text": [
      "1,069 operations with \"handwashing\" violations\n",
      "482 operations with \"746\\.3417\" violations\n"
     ]
    }
   ],
   "source": [
    "print('{:,} operations with \\\"handwashing\\\" violations'.format(\n",
    "    len(dat_live_non_compliance.assign(\n",
    "        handwash = lambda x: x.STANDARD_NUMBER_DESCRIPTION.str.contains(\n",
    "            'Handwashing',\n",
    "            regex=True,\n",
    "            flags=re.IGNORECASE\n",
    "        )\n",
    "    ).query('handwash').OPERATION_ID.unique())\n",
    "))\n",
    "\n",
    "print('{:,} operations with \"746\\.3417\" violations'.format(\n",
    "    len(dat_live_non_compliance.assign(\n",
    "        handwash_code = lambda x: x.STANDARD_NUMBER_DESCRIPTION.str.contains('746\\.3417')\n",
    "    ).query('handwash_code').OPERATION_ID.unique())\n",
    "))"
   ]
  },
  {
   "cell_type": "code",
   "execution_count": null,
   "metadata": {},
   "outputs": [],
   "source": []
  }
 ],
 "metadata": {
  "kernelspec": {
   "display_name": "Python 3",
   "language": "python",
   "name": "python3"
  },
  "language_info": {
   "codemirror_mode": {
    "name": "ipython",
    "version": 3
   },
   "file_extension": ".py",
   "mimetype": "text/x-python",
   "name": "python",
   "nbconvert_exporter": "python",
   "pygments_lexer": "ipython3",
   "version": "3.6.1"
  }
 },
 "nbformat": 4,
 "nbformat_minor": 2
}
