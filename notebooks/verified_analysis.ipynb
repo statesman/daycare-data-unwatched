{
 "cells": [
  {
   "cell_type": "code",
   "execution_count": 1,
   "metadata": {},
   "outputs": [],
   "source": [
    "import pandas as pd\n",
    "import geopandas as gpd\n",
    "\n",
    "from IPython.display import HTML, display\n",
    "\n",
    "import matplotlib.pyplot as plt"
   ]
  },
  {
   "cell_type": "markdown",
   "metadata": {},
   "source": [
    "# Daycare injury analysis\n",
    "\n",
    "This code analyzes daycares with verified-injury data exported from data warehouse.\n",
    "\n",
    "The `dat_injure` dataframe has a row for every injury detail and related violation for every operation. Because of this, the code frequently groups by `operation_id` before counting daycares."
   ]
  },
  {
   "cell_type": "code",
   "execution_count": 2,
   "metadata": {},
   "outputs": [],
   "source": [
    "dat_injure = pd.read_csv(\n",
    "    '../csv/daycare-injuries.csv'\n",
    ").assign(\n",
    "    related_violation = lambda x: x.related_violation.replace(\n",
    "            '1f', 'Facility/Equipment'\n",
    "        ).replace(\n",
    "            '2r', 'Failure To Report Incident'\n",
    "        ).replace(\n",
    "            '3s', 'Staffing'\n",
    "        ).replace(\n",
    "            '4s', 'Supervision'\n",
    "        ).replace(\n",
    "            '5t', 'Training'\n",
    "        ),\n",
    "    injury_detail = lambda x: x.injury_detail.replace(\n",
    "            '2a', 'Accidental'\n",
    "        ).replace(\n",
    "            '3i', 'Intentional'\n",
    "        ).replace(\n",
    "            '4m', 'Medical care'\n",
    "        ).replace(\n",
    "            '5h', 'Hospital visit'\n",
    "        ).replace(\n",
    "            '6m', 'Minor'\n",
    "        ).replace(\n",
    "            '7s', 'Serious'\n",
    "        ).replace(\n",
    "            '8u', 'Unknown injury'\n",
    "        ).replace(\n",
    "            '9i', 'Injury by other child'\n",
    "        )\n",
    ")"
   ]
  },
  {
   "cell_type": "code",
   "execution_count": 3,
   "metadata": {},
   "outputs": [],
   "source": [
    "# Load data for all daycares in DFPS purview as of Feb. 1\n",
    "\n",
    "operations = pd.read_csv(\n",
    "    '../csv/dfps-2018-02-01/operations.csv'\n",
    ").drop('Unnamed: 0', axis=1)"
   ]
  },
  {
   "cell_type": "markdown",
   "metadata": {},
   "source": [
    "### Injury detail breakdowns"
   ]
  },
  {
   "cell_type": "code",
   "execution_count": 4,
   "metadata": {},
   "outputs": [
    {
     "data": {
      "text/html": [
       "<p><strong>981</strong> inspections with an injury</p>"
      ],
      "text/plain": [
       "<IPython.core.display.HTML object>"
      ]
     },
     "execution_count": 4,
     "metadata": {},
     "output_type": "execute_result"
    }
   ],
   "source": [
    "HTML(\n",
    "    '<p><strong>{:,}</strong> inspections with an injury</p>'.format(\n",
    "        len(dat_injure.activity_id.unique())\n",
    "    )\n",
    ")"
   ]
  },
  {
   "cell_type": "code",
   "execution_count": 5,
   "metadata": {},
   "outputs": [
    {
     "data": {
      "text/html": [
       "<p><strong>520</strong> inspections with an injury not reported to parents or licensing</p>"
      ],
      "text/plain": [
       "<IPython.core.display.HTML object>"
      ]
     },
     "execution_count": 5,
     "metadata": {},
     "output_type": "execute_result"
    }
   ],
   "source": [
    "HTML(\n",
    "    '<p><strong>{:,}</strong> inspections with an injury not reported to parents or licensing</p>'.format(\n",
    "        len(\n",
    "            dat_injure.query(\n",
    "                'related_violation == \"Failure To Report Incident\"'\n",
    "            ).activity_id.unique()\n",
    "        )\n",
    "    )\n",
    ")"
   ]
  },
  {
   "cell_type": "code",
   "execution_count": 6,
   "metadata": {},
   "outputs": [
    {
     "data": {
      "text/html": [
       "<p><strong>449</strong> inspections with an injury that required medical care</p>"
      ],
      "text/plain": [
       "<IPython.core.display.HTML object>"
      ]
     },
     "execution_count": 6,
     "metadata": {},
     "output_type": "execute_result"
    }
   ],
   "source": [
    "HTML(\n",
    "    '<p><strong>{:,}</strong> inspections with an injury that required medical care</p>'.format(\n",
    "        len(\n",
    "            dat_injure.query(\n",
    "                'injury_detail == \"Medical care\"'\n",
    "            ).activity_id.unique()\n",
    "        )\n",
    "    )\n",
    ")"
   ]
  },
  {
   "cell_type": "code",
   "execution_count": 7,
   "metadata": {},
   "outputs": [
    {
     "data": {
      "text/html": [
       "<p><strong>193</strong> inspections with an injury and failure to supervise properly</p>"
      ],
      "text/plain": [
       "<IPython.core.display.HTML object>"
      ]
     },
     "execution_count": 7,
     "metadata": {},
     "output_type": "execute_result"
    }
   ],
   "source": [
    "HTML(\n",
    "    '<p><strong>{:,}</strong> inspections with an injury and failure to supervise properly</p>'.format(\n",
    "        len(\n",
    "            dat_injure.query(\n",
    "                'related_violation == \"Supervision\"'\n",
    "            ).activity_id.unique()\n",
    "        )\n",
    "    )\n",
    ")"
   ]
  },
  {
   "cell_type": "code",
   "execution_count": 8,
   "metadata": {},
   "outputs": [
    {
     "data": {
      "text/html": [
       "<p><strong>65</strong> inspections with an injury intentionally caused by daycare caregivers</p>"
      ],
      "text/plain": [
       "<IPython.core.display.HTML object>"
      ]
     },
     "execution_count": 8,
     "metadata": {},
     "output_type": "execute_result"
    }
   ],
   "source": [
    "HTML(\n",
    "    '<p><strong>{:,}</strong> inspections with an injury intentionally caused by daycare caregivers</p>'.format(\n",
    "        len(\n",
    "            dat_injure.query(\n",
    "                'injury_detail == \"Intentional\"'\n",
    "            ).activity_id.unique()\n",
    "        )\n",
    "    )\n",
    ")"
   ]
  },
  {
   "cell_type": "code",
   "execution_count": 9,
   "metadata": {},
   "outputs": [
    {
     "data": {
      "text/html": [
       "<div>\n",
       "<style>\n",
       "    .dataframe thead tr:only-child th {\n",
       "        text-align: right;\n",
       "    }\n",
       "\n",
       "    .dataframe thead th {\n",
       "        text-align: left;\n",
       "    }\n",
       "\n",
       "    .dataframe tbody tr th {\n",
       "        vertical-align: top;\n",
       "    }\n",
       "</style>\n",
       "<table border=\"1\" class=\"dataframe\">\n",
       "  <thead>\n",
       "    <tr style=\"text-align: right;\">\n",
       "      <th></th>\n",
       "      <th></th>\n",
       "    </tr>\n",
       "  </thead>\n",
       "  <tbody>\n",
       "    <tr>\n",
       "      <th>Licensed Center</th>\n",
       "      <td>803</td>\n",
       "    </tr>\n",
       "    <tr>\n",
       "      <th>Registered Child-Care Home</th>\n",
       "      <td>20</td>\n",
       "    </tr>\n",
       "    <tr>\n",
       "      <th>Licensed Child-Care Home</th>\n",
       "      <td>8</td>\n",
       "    </tr>\n",
       "  </tbody>\n",
       "</table>\n",
       "</div>"
      ],
      "text/plain": [
       "                               \n",
       "Licensed Center             803\n",
       "Registered Child-Care Home   20\n",
       "Licensed Child-Care Home      8"
      ]
     },
     "metadata": {},
     "output_type": "display_data"
    },
    {
     "data": {
      "text/html": [
       "<div>\n",
       "<style>\n",
       "    .dataframe thead tr:only-child th {\n",
       "        text-align: right;\n",
       "    }\n",
       "\n",
       "    .dataframe thead th {\n",
       "        text-align: left;\n",
       "    }\n",
       "\n",
       "    .dataframe tbody tr th {\n",
       "        vertical-align: top;\n",
       "    }\n",
       "</style>\n",
       "<table border=\"1\" class=\"dataframe\">\n",
       "  <thead>\n",
       "    <tr style=\"text-align: right;\">\n",
       "      <th></th>\n",
       "      <th></th>\n",
       "    </tr>\n",
       "  </thead>\n",
       "  <tbody>\n",
       "    <tr>\n",
       "      <th>Licensed Center</th>\n",
       "      <td>96.6%</td>\n",
       "    </tr>\n",
       "    <tr>\n",
       "      <th>Registered Child-Care Home</th>\n",
       "      <td>2.4%</td>\n",
       "    </tr>\n",
       "    <tr>\n",
       "      <th>Licensed Child-Care Home</th>\n",
       "      <td>1.0%</td>\n",
       "    </tr>\n",
       "  </tbody>\n",
       "</table>\n",
       "</div>"
      ],
      "text/plain": [
       "                                 \n",
       "Licensed Center             96.6%\n",
       "Registered Child-Care Home   2.4%\n",
       "Licensed Child-Care Home     1.0%"
      ]
     },
     "metadata": {},
     "output_type": "display_data"
    },
    {
     "data": {
      "text/html": [
       "<p>⬆️ Operations with injuries</p>"
      ],
      "text/plain": [
       "<IPython.core.display.HTML object>"
      ]
     },
     "execution_count": 9,
     "metadata": {},
     "output_type": "execute_result"
    }
   ],
   "source": [
    "display(\n",
    "    dat_injure.groupby([\n",
    "        'operation_id', 'operation_type'\n",
    "    ]).size().index.get_level_values(1).value_counts(\n",
    "    ).apply(pd.Series).apply(\n",
    "        lambda x: ['{:,}'.format(a) for a in x]\n",
    "    ).rename(\n",
    "        columns = {0: ''}\n",
    "    )\n",
    ")\n",
    "\n",
    "display(\n",
    "    dat_injure.groupby([\n",
    "        'operation_id', 'operation_type'\n",
    "    ]).size().index.get_level_values(1).value_counts(\n",
    "        normalize=True\n",
    "    ).apply(pd.Series).apply(\n",
    "        lambda x: ['{:.1%}'.format(a) for a in x]\n",
    "    ).rename(\n",
    "        columns = {0: ''}\n",
    "    )\n",
    ")\n",
    "\n",
    "HTML('<p>⬆️ Operations with injuries</p>')"
   ]
  },
  {
   "cell_type": "code",
   "execution_count": 10,
   "metadata": {},
   "outputs": [
    {
     "data": {
      "text/html": [
       "<div>\n",
       "<style>\n",
       "    .dataframe thead tr:only-child th {\n",
       "        text-align: right;\n",
       "    }\n",
       "\n",
       "    .dataframe thead th {\n",
       "        text-align: left;\n",
       "    }\n",
       "\n",
       "    .dataframe tbody tr th {\n",
       "        vertical-align: top;\n",
       "    }\n",
       "</style>\n",
       "<table border=\"1\" class=\"dataframe\">\n",
       "  <thead>\n",
       "    <tr style=\"text-align: right;\">\n",
       "      <th></th>\n",
       "      <th></th>\n",
       "    </tr>\n",
       "  </thead>\n",
       "  <tbody>\n",
       "    <tr>\n",
       "      <th>Licensed Center</th>\n",
       "      <td>63.57%</td>\n",
       "    </tr>\n",
       "    <tr>\n",
       "      <th>Registered Child-Care Home</th>\n",
       "      <td>25.20%</td>\n",
       "    </tr>\n",
       "    <tr>\n",
       "      <th>Licensed Child-Care Home</th>\n",
       "      <td>11.23%</td>\n",
       "    </tr>\n",
       "  </tbody>\n",
       "</table>\n",
       "</div>"
      ],
      "text/plain": [
       "                                  \n",
       "Licensed Center             63.57%\n",
       "Registered Child-Care Home  25.20%\n",
       "Licensed Child-Care Home    11.23%"
      ]
     },
     "metadata": {},
     "output_type": "display_data"
    },
    {
     "data": {
      "text/html": [
       "<p>⬆️ All operations, excluding Child Placing Agencies and General Residential Operations</p>"
      ],
      "text/plain": [
       "<IPython.core.display.HTML object>"
      ]
     },
     "execution_count": 10,
     "metadata": {},
     "output_type": "execute_result"
    }
   ],
   "source": [
    "display(\n",
    "    operations.query(\n",
    "        'OPERATION_TYPE != \"Child Placing Agency\" & OPERATION_TYPE != \"General Residential Operation\"'\n",
    "    ).OPERATION_TYPE.value_counts(\n",
    "        normalize=True\n",
    "    ).apply(pd.Series).apply(\n",
    "        lambda x: ['{:.2%}'.format(a) for a in x]\n",
    "    ).rename(\n",
    "        columns = {0: ''}\n",
    "    )\n",
    ")\n",
    "\n",
    "HTML('<p>⬆️ All operations, excluding Child Placing Agencies '\n",
    "      'and General Residential Operations</p>'\n",
    "     )"
   ]
  },
  {
   "cell_type": "markdown",
   "metadata": {},
   "source": [
    "### Geography (county)"
   ]
  },
  {
   "cell_type": "code",
   "execution_count": 11,
   "metadata": {},
   "outputs": [],
   "source": [
    "dat_counties = gpd.read_file(\n",
    "    '/www/home/projects/2018-03-census/web/notebooks/download/tl_2017_us_county'\n",
    ").query('STATEFP == \"48\"')"
   ]
  },
  {
   "cell_type": "code",
   "execution_count": 12,
   "metadata": {},
   "outputs": [],
   "source": [
    "dat_county_pop = pd.read_csv(\n",
    "    'http://demographics.texas.gov/Resources/TPEPP/Estimates/2016/Preliminary_2016_txpopest_county.csv'\n",
    ").assign(\n",
    "    county = lambda x: x.county.str.replace('De Witt', 'DeWitt').str.upper()\n",
    ").set_index('county')"
   ]
  },
  {
   "cell_type": "code",
   "execution_count": 13,
   "metadata": {},
   "outputs": [
    {
     "data": {
      "image/png": "[encoded data removed]",
      "text/plain": [
       "<matplotlib.figure.Figure at 0x1113a39b0>"
      ]
     },
     "metadata": {},
     "output_type": "display_data"
    },
    {
     "data": {
      "text/html": [
       "<p>⬆️ Per-capita daycare counts</p>"
      ],
      "text/plain": [
       "<IPython.core.display.HTML object>"
      ]
     },
     "execution_count": 13,
     "metadata": {},
     "output_type": "execute_result"
    }
   ],
   "source": [
    "fig, axes = plt.subplots(1, 2, figsize=(12, 5))\n",
    "\n",
    "dat_counties.assign(\n",
    "    NAME = lambda x: x.NAME.str.upper()\n",
    ").set_index('NAME').join(\n",
    "    dat_injure.groupby([\n",
    "        'operation_id', 'county'\n",
    "    ]).size().apply(pd.Series).rename(\n",
    "        columns = {0: 'county_count'}\n",
    "    ).reset_index().groupby('county')[\n",
    "       'county_count'\n",
    "    ].sum()\n",
    ").join(dat_county_pop).fillna(0).assign(\n",
    "    count_per_cap = lambda x: x.county_count / x.july1_2016_pop_est\n",
    ").plot(\n",
    "    column='count_per_cap',\n",
    "    linewidth=0.2,\n",
    "    cmap='Oranges',\n",
    "    ax=axes[0]\n",
    ")\n",
    "axes[0].set_title('Daycares with injuries')\n",
    "\n",
    "dat_counties.assign(\n",
    "    NAME = lambda x: x.NAME.str.upper()\n",
    ").set_index('NAME').join(\n",
    "    operations.COUNTY.value_counts().apply(\n",
    "        pd.Series\n",
    "    ).rename(\n",
    "        columns = {0: 'county_count'}\n",
    "    )\n",
    ").join(dat_county_pop).fillna(0).assign(\n",
    "    count_per_cap = lambda x: x.county_count / x.july1_2016_pop_est\n",
    ").plot(\n",
    "    column='count_per_cap',\n",
    "    linewidth=0.2,\n",
    "    cmap='Oranges',\n",
    "    ax=axes[1]\n",
    ")\n",
    "axes[1].set_title('All daycares')\n",
    "\n",
    "for ax in axes:\n",
    "    ax.set_xticks([])\n",
    "    ax.set_yticks([])\n",
    "\n",
    "plt.show()\n",
    "\n",
    "HTML('<p>⬆️ Per-capita daycare counts</p>')"
   ]
  },
  {
   "cell_type": "code",
   "execution_count": 14,
   "metadata": {},
   "outputs": [
    {
     "data": {
      "image/png": "[encoded data removed]",
      "text/plain": [
       "<matplotlib.figure.Figure at 0x113915550>"
      ]
     },
     "metadata": {},
     "output_type": "display_data"
    }
   ],
   "source": [
    "dat_injure.groupby([\n",
    "        'operation_id', 'county'\n",
    "    ]).size().apply(pd.Series).rename(\n",
    "        columns = {0: 'county_count'}\n",
    "    ).reset_index().groupby('county')[\n",
    "       'county_count'\n",
    "    ].sum().apply(pd.Series).rename(\n",
    "    columns = {0: 'daycares_w_injuries'}\n",
    ").join(dat_county_pop).fillna(0).assign(\n",
    "    count_per_cap = lambda x: x.daycares_w_injuries / x.july1_2016_pop_est\n",
    ").query('july1_2016_pop_est < 1e6').plot(\n",
    "    kind='scatter',\n",
    "    x='july1_2016_pop_est',\n",
    "    y='daycares_w_injuries'\n",
    ")\n",
    "\n",
    "plt.show()"
   ]
  },
  {
   "cell_type": "markdown",
   "metadata": {},
   "source": [
    "### Inspection counts by type"
   ]
  },
  {
   "cell_type": "code",
   "execution_count": 15,
   "metadata": {},
   "outputs": [
    {
     "data": {
      "text/html": [
       "<div>\n",
       "<style>\n",
       "    .dataframe thead tr:only-child th {\n",
       "        text-align: right;\n",
       "    }\n",
       "\n",
       "    .dataframe thead th {\n",
       "        text-align: left;\n",
       "    }\n",
       "\n",
       "    .dataframe tbody tr th {\n",
       "        vertical-align: top;\n",
       "    }\n",
       "</style>\n",
       "<table border=\"1\" class=\"dataframe\">\n",
       "  <thead>\n",
       "    <tr style=\"text-align: right;\">\n",
       "      <th></th>\n",
       "      <th>total_inspections</th>\n",
       "    </tr>\n",
       "    <tr>\n",
       "      <th>operation_type</th>\n",
       "      <th></th>\n",
       "    </tr>\n",
       "  </thead>\n",
       "  <tbody>\n",
       "    <tr>\n",
       "      <th>Licensed Center</th>\n",
       "      <td>11.0</td>\n",
       "    </tr>\n",
       "    <tr>\n",
       "      <th>Licensed Child-Care Home</th>\n",
       "      <td>5.0</td>\n",
       "    </tr>\n",
       "    <tr>\n",
       "      <th>Registered Child-Care Home</th>\n",
       "      <td>5.0</td>\n",
       "    </tr>\n",
       "  </tbody>\n",
       "</table>\n",
       "</div>"
      ],
      "text/plain": [
       "                            total_inspections\n",
       "operation_type                               \n",
       "Licensed Center                          11.0\n",
       "Licensed Child-Care Home                  5.0\n",
       "Registered Child-Care Home                5.0"
      ]
     },
     "metadata": {},
     "output_type": "display_data"
    },
    {
     "data": {
      "text/html": [
       "<p>⬆️ Operations with injuries</p>"
      ],
      "text/plain": [
       "<IPython.core.display.HTML object>"
      ]
     },
     "execution_count": 15,
     "metadata": {},
     "output_type": "execute_result"
    }
   ],
   "source": [
    "display(\n",
    "    dat_injure.groupby(\n",
    "        ['operation_id', 'operation_type']\n",
    "    )[[\n",
    "        'total_inspections',\n",
    "        'total_assessments',\n",
    "        'total_reports'\n",
    "    ]].first().groupby('operation_type')[\n",
    "        'total_inspections',\n",
    "    ].mean().round()\n",
    ")\n",
    "\n",
    "HTML('<p>⬆️ Operations with injuries</p>')"
   ]
  },
  {
   "cell_type": "code",
   "execution_count": 16,
   "metadata": {},
   "outputs": [
    {
     "data": {
      "text/html": [
       "<div>\n",
       "<style>\n",
       "    .dataframe thead tr:only-child th {\n",
       "        text-align: right;\n",
       "    }\n",
       "\n",
       "    .dataframe thead th {\n",
       "        text-align: left;\n",
       "    }\n",
       "\n",
       "    .dataframe tbody tr th {\n",
       "        vertical-align: top;\n",
       "    }\n",
       "</style>\n",
       "<table border=\"1\" class=\"dataframe\">\n",
       "  <thead>\n",
       "    <tr style=\"text-align: right;\">\n",
       "      <th></th>\n",
       "      <th>TOTAL_INSPECTIONS</th>\n",
       "    </tr>\n",
       "    <tr>\n",
       "      <th>OPERATION_TYPE</th>\n",
       "      <th></th>\n",
       "    </tr>\n",
       "  </thead>\n",
       "  <tbody>\n",
       "    <tr>\n",
       "      <th>Licensed Center</th>\n",
       "      <td>6.0</td>\n",
       "    </tr>\n",
       "    <tr>\n",
       "      <th>Licensed Child-Care Home</th>\n",
       "      <td>4.0</td>\n",
       "    </tr>\n",
       "    <tr>\n",
       "      <th>Registered Child-Care Home</th>\n",
       "      <td>3.0</td>\n",
       "    </tr>\n",
       "  </tbody>\n",
       "</table>\n",
       "</div>"
      ],
      "text/plain": [
       "                            TOTAL_INSPECTIONS\n",
       "OPERATION_TYPE                               \n",
       "Licensed Center                           6.0\n",
       "Licensed Child-Care Home                  4.0\n",
       "Registered Child-Care Home                3.0"
      ]
     },
     "metadata": {},
     "output_type": "display_data"
    },
    {
     "data": {
      "text/html": [
       "<p>⬆️ All operations, excluding Child Placing Agencies and General Residential Operations</p>"
      ],
      "text/plain": [
       "<IPython.core.display.HTML object>"
      ]
     },
     "execution_count": 16,
     "metadata": {},
     "output_type": "execute_result"
    }
   ],
   "source": [
    "display(\n",
    "    operations.query(\n",
    "        'OPERATION_TYPE != \"Child Placing Agency\" & OPERATION_TYPE != \"General Residential Operation\"'\n",
    "    ).groupby(\n",
    "        'OPERATION_TYPE'\n",
    "    )[[\n",
    "        'TOTAL_INSPECTIONS',\n",
    "    ]].mean().apply(round)\n",
    ")\n",
    "\n",
    "HTML('<p>⬆️ All operations, excluding Child Placing Agencies '\n",
    "      'and General Residential Operations</p>'\n",
    "     )"
   ]
  },
  {
   "cell_type": "code",
   "execution_count": null,
   "metadata": {},
   "outputs": [],
   "source": []
  }
 ],
 "metadata": {
  "kernelspec": {
   "display_name": "Python 3",
   "language": "python",
   "name": "python3"
  },
  "language_info": {
   "codemirror_mode": {
    "name": "ipython",
    "version": 3
   },
   "file_extension": ".py",
   "mimetype": "text/x-python",
   "name": "python",
   "nbconvert_exporter": "python",
   "pygments_lexer": "ipython3",
   "version": "3.6.1"
  }
 },
 "nbformat": 4,
 "nbformat_minor": 2
}
