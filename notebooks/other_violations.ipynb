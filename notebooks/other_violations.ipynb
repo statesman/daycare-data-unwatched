{
 "cells": [
  {
   "cell_type": "code",
   "execution_count": 1,
   "metadata": {},
   "outputs": [],
   "source": [
    "import pandas as pd"
   ]
  },
  {
   "cell_type": "code",
   "execution_count": 2,
   "metadata": {},
   "outputs": [],
   "source": [
    "non_compliance = pd.read_csv('../csv/dfps-2018-02-01/non_compliance.csv').drop('Unnamed: 0', axis=1)\n",
    "operations = pd.read_csv('../csv/dfps-2018-02-01/operations.csv').drop('Unnamed: 0', axis=1)\n",
    "inspections = pd.read_csv('../csv/dfps-2018-02-01/assessment.csv').drop('Unnamed: 0', axis=1)"
   ]
  },
  {
   "cell_type": "code",
   "execution_count": 3,
   "metadata": {},
   "outputs": [],
   "source": [
    "# 747.2315(5) - Blankets, sheets, etc.\n",
    "# 747.2327 - Infants sleeping on backs.\n",
    "# 744.1203(4) - Responsibilities of Caregivers- Supervision of Children\n",
    "\n",
    "dat_violations = non_compliance[\n",
    "    non_compliance.STANDARD_NUMBER_DESCRIPTION.fillna('').str.contains(\n",
    "        '747.2315\\(5\\)'\n",
    "    ) | \n",
    "    non_compliance.STANDARD_NUMBER_DESCRIPTION.fillna('').str.contains(\n",
    "        '747.2327'\n",
    "    ) |\n",
    "    non_compliance.STANDARD_NUMBER_DESCRIPTION.fillna('').str.contains(\n",
    "        '744.1203\\(4\\)', \n",
    "    )\n",
    "].assign(\n",
    "    vio_code = lambda x: x.STANDARD_NUMBER_DESCRIPTION.str.split(' - ').str.get(0).replace(\n",
    "        '747.2327', '747.2327 - Infants sleeping on backs'\n",
    "    ).replace(\n",
    "        '744.1203(4)', '744.1203(4) - Responsibilities of Caregivers- Supervision of Children'\n",
    "    ).replace(\n",
    "        '747.2315(5)', '747.2315(5) - Blankets, sheets, etc.'\n",
    "    )\n",
    ").merge(\n",
    "    operations,\n",
    "    on='OPERATION_ID'\n",
    ").merge(\n",
    "    inspections.drop(\n",
    "        'OPERATION_ID',\n",
    "        axis=1\n",
    "    ),\n",
    "    on='ACTIVITY_ID'\n",
    ").query(\n",
    "    'OPERATION_TYPE != \"Child Placing Agency\" & OPERATION_TYPE != \"General Residential Operation\"'\n",
    ").where(\n",
    "    # Only take 2016-02-01 to 2018-02-01\n",
    "    lambda x: pd.to_datetime(x.ACTIVITY_DATE) >= pd.to_datetime('2016-02-01')\n",
    ")"
   ]
  },
  {
   "cell_type": "code",
   "execution_count": 4,
   "metadata": {},
   "outputs": [
    {
     "data": {
      "text/html": [
       "<div>\n",
       "<style>\n",
       "    .dataframe thead tr:only-child th {\n",
       "        text-align: right;\n",
       "    }\n",
       "\n",
       "    .dataframe thead th {\n",
       "        text-align: left;\n",
       "    }\n",
       "\n",
       "    .dataframe tbody tr th {\n",
       "        vertical-align: top;\n",
       "    }\n",
       "</style>\n",
       "<table border=\"1\" class=\"dataframe\">\n",
       "  <thead>\n",
       "    <tr style=\"text-align: right;\">\n",
       "      <th>OPERATION_TYPE</th>\n",
       "      <th>Licensed Center</th>\n",
       "      <th>Licensed Child-Care Home</th>\n",
       "      <th>Registered Child-Care Home</th>\n",
       "      <th>total</th>\n",
       "    </tr>\n",
       "    <tr>\n",
       "      <th>vio_code</th>\n",
       "      <th></th>\n",
       "      <th></th>\n",
       "      <th></th>\n",
       "      <th></th>\n",
       "    </tr>\n",
       "  </thead>\n",
       "  <tbody>\n",
       "    <tr>\n",
       "      <th>744.1203(4) - Responsibilities of Caregivers- Supervision of Children</th>\n",
       "      <td>144</td>\n",
       "      <td>0</td>\n",
       "      <td>0</td>\n",
       "      <td>144</td>\n",
       "    </tr>\n",
       "    <tr>\n",
       "      <th>747.2315(5) - Blankets, sheets, etc.</th>\n",
       "      <td>0</td>\n",
       "      <td>53</td>\n",
       "      <td>83</td>\n",
       "      <td>136</td>\n",
       "    </tr>\n",
       "    <tr>\n",
       "      <th>747.2327 - Infants sleeping on backs</th>\n",
       "      <td>0</td>\n",
       "      <td>11</td>\n",
       "      <td>10</td>\n",
       "      <td>21</td>\n",
       "    </tr>\n",
       "  </tbody>\n",
       "</table>\n",
       "</div>"
      ],
      "text/plain": [
       "OPERATION_TYPE                                      Licensed Center  \\\n",
       "vio_code                                                              \n",
       "744.1203(4) - Responsibilities of Caregivers- S...              144   \n",
       "747.2315(5) - Blankets, sheets, etc.                              0   \n",
       "747.2327 - Infants sleeping on backs                              0   \n",
       "\n",
       "OPERATION_TYPE                                      Licensed Child-Care Home  \\\n",
       "vio_code                                                                       \n",
       "744.1203(4) - Responsibilities of Caregivers- S...                         0   \n",
       "747.2315(5) - Blankets, sheets, etc.                                      53   \n",
       "747.2327 - Infants sleeping on backs                                      11   \n",
       "\n",
       "OPERATION_TYPE                                      Registered Child-Care Home  \\\n",
       "vio_code                                                                         \n",
       "744.1203(4) - Responsibilities of Caregivers- S...                           0   \n",
       "747.2315(5) - Blankets, sheets, etc.                                        83   \n",
       "747.2327 - Infants sleeping on backs                                        10   \n",
       "\n",
       "OPERATION_TYPE                                      total  \n",
       "vio_code                                                   \n",
       "744.1203(4) - Responsibilities of Caregivers- S...    144  \n",
       "747.2315(5) - Blankets, sheets, etc.                  136  \n",
       "747.2327 - Infants sleeping on backs                   21  "
      ]
     },
     "execution_count": 4,
     "metadata": {},
     "output_type": "execute_result"
    }
   ],
   "source": [
    "pd.crosstab(\n",
    "    dat_violations.vio_code,\n",
    "    dat_violations.OPERATION_TYPE\n",
    ").assign(\n",
    "    total = lambda x: x.apply(sum, axis=1)\n",
    ")\n",
    "#.to_csv('../export/blankets_responsibilities.csv')"
   ]
  },
  {
   "cell_type": "code",
   "execution_count": null,
   "metadata": {},
   "outputs": [],
   "source": []
  }
 ],
 "metadata": {
  "kernelspec": {
   "display_name": "Python 3",
   "language": "python",
   "name": "python3"
  },
  "language_info": {
   "codemirror_mode": {
    "name": "ipython",
    "version": 3
   },
   "file_extension": ".py",
   "mimetype": "text/x-python",
   "name": "python",
   "nbconvert_exporter": "python",
   "pygments_lexer": "ipython3",
   "version": "3.6.1"
  }
 },
 "nbformat": 4,
 "nbformat_minor": 2
}
