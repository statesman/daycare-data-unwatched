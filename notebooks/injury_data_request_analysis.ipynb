{
 "cells": [
  {
   "cell_type": "code",
   "execution_count": 1,
   "metadata": {
    "collapsed": true
   },
   "outputs": [],
   "source": [
    "import pandas as pd"
   ]
  },
  {
   "cell_type": "code",
   "execution_count": 2,
   "metadata": {
    "collapsed": true
   },
   "outputs": [],
   "source": [
    "# Source: Texas Health and Human Services Commission\n",
    "\n",
    "# Data provided Sept. 6, 2018\n",
    "dat_orig = pd.read_excel(\n",
    "    '../src/Andrea Ball #16064 Child Injury Data 9.6.18.xlsx',\n",
    "    skiprows=4,\n",
    "    skipfooter=3\n",
    ")\n",
    "\n",
    "# Data provided Nov. 14, 2018\n",
    "dat = pd.read_excel(\n",
    "    '../src/D91909_Inv_InjuryData_Center_Home.xlsx',\n",
    "    skiprows=4,\n",
    "    skipfooter=3\n",
    ")"
   ]
  },
  {
   "cell_type": "code",
   "execution_count": 3,
   "metadata": {},
   "outputs": [
    {
     "name": "stdout",
     "output_type": "stream",
     "text": [
      "Sept. 6 data:\n",
      "939 total injuries\n",
      "156 serious injuries\n",
      "\n",
      "\n",
      "Nov. 14 data:\n",
      "4,823 total injuries\n",
      "818 serious injuries\n"
     ]
    }
   ],
   "source": [
    "print(\n",
    "    'Sept. 6 data:\\n{:,} total injuries\\n{:,} serious injuries'.format(\n",
    "        dat_orig.shape[0],\n",
    "        dat_orig.rename(\n",
    "            columns = lambda x: x.replace(' ', '')\n",
    "        ).query('InjuryDetermination == \"Serious\"').shape[0]\n",
    "    )\n",
    ")\n",
    "\n",
    "print(\n",
    "    '\\n\\nNov. 14 data:\\n{:,} total injuries\\n{:,} serious injuries'.format(\n",
    "        dat.shape[0],\n",
    "        dat.rename(\n",
    "            columns = lambda x: x.replace(' ', '')\n",
    "        ).query('InjuryDetermination == \"Serious\"').shape[0]\n",
    "    )\n",
    ")"
   ]
  },
  {
   "cell_type": "code",
   "execution_count": 4,
   "metadata": {},
   "outputs": [
    {
     "data": {
      "text/html": [
       "<div>\n",
       "<style>\n",
       "    .dataframe thead tr:only-child th {\n",
       "        text-align: right;\n",
       "    }\n",
       "\n",
       "    .dataframe thead th {\n",
       "        text-align: left;\n",
       "    }\n",
       "\n",
       "    .dataframe tbody tr th {\n",
       "        vertical-align: top;\n",
       "    }\n",
       "</style>\n",
       "<table border=\"1\" class=\"dataframe\">\n",
       "  <thead>\n",
       "    <tr style=\"text-align: right;\">\n",
       "      <th>Injury Determination</th>\n",
       "      <th>Non-Serious</th>\n",
       "      <th>Serious</th>\n",
       "    </tr>\n",
       "    <tr>\n",
       "      <th>Injury Related to Abuse/Neglect</th>\n",
       "      <th></th>\n",
       "      <th></th>\n",
       "    </tr>\n",
       "  </thead>\n",
       "  <tbody>\n",
       "    <tr>\n",
       "      <th>N</th>\n",
       "      <td>3946</td>\n",
       "      <td>764</td>\n",
       "    </tr>\n",
       "    <tr>\n",
       "      <th>Y</th>\n",
       "      <td>58</td>\n",
       "      <td>54</td>\n",
       "    </tr>\n",
       "  </tbody>\n",
       "</table>\n",
       "</div>"
      ],
      "text/plain": [
       "Injury Determination             Non-Serious  Serious\n",
       "Injury Related to Abuse/Neglect                      \n",
       "N                                       3946      764\n",
       "Y                                         58       54"
      ]
     },
     "execution_count": 4,
     "metadata": {},
     "output_type": "execute_result"
    }
   ],
   "source": [
    "pd.crosstab(\n",
    "    dat['Injury Related to Abuse/Neglect'],\n",
    "    dat['Injury Determination']\n",
    ")"
   ]
  },
  {
   "cell_type": "code",
   "execution_count": 5,
   "metadata": {},
   "outputs": [
    {
     "data": {
      "text/plain": [
       "Non-Serious    4004\n",
       "Serious         818\n",
       "Name: Injury Determination, dtype: int64"
      ]
     },
     "execution_count": 5,
     "metadata": {},
     "output_type": "execute_result"
    }
   ],
   "source": [
    "dat['Injury Determination'].value_counts()"
   ]
  },
  {
   "cell_type": "code",
   "execution_count": 6,
   "metadata": {},
   "outputs": [
    {
     "data": {
      "text/plain": [
       "N    4710\n",
       "Y     112\n",
       "Name: Injury Related to Abuse/Neglect, dtype: int64"
      ]
     },
     "execution_count": 6,
     "metadata": {},
     "output_type": "execute_result"
    }
   ],
   "source": [
    "dat['Injury Related to Abuse/Neglect'].value_counts()"
   ]
  },
  {
   "cell_type": "code",
   "execution_count": 7,
   "metadata": {},
   "outputs": [
    {
     "data": {
      "text/plain": [
       "Non-Serious    83.04%\n",
       "Serious        16.96%\n",
       "Name: Injury Determination, dtype: object"
      ]
     },
     "execution_count": 7,
     "metadata": {},
     "output_type": "execute_result"
    }
   ],
   "source": [
    "dat['Injury Determination'].value_counts(normalize=True).apply('{:.2%}'.format)"
   ]
  },
  {
   "cell_type": "code",
   "execution_count": 8,
   "metadata": {},
   "outputs": [
    {
     "data": {
      "text/plain": [
       "Licensed Center               97.45%\n",
       "Licensed Child-Care Home       1.27%\n",
       "Registered Child-Care Home     0.93%\n",
       "Listed Family Home             0.35%\n",
       "Name: Operation Type3, dtype: object"
      ]
     },
     "execution_count": 8,
     "metadata": {},
     "output_type": "execute_result"
    }
   ],
   "source": [
    "dat['Operation Type3'].value_counts(normalize=True).apply('{:.2%}'.format)"
   ]
  },
  {
   "cell_type": "code",
   "execution_count": 9,
   "metadata": {
    "collapsed": true
   },
   "outputs": [
    {
     "data": {
      "text/plain": [
       "Other                          2,036\n",
       "Indoor Equipment/Structure     1,248\n",
       "Outdoor Equipment/Structure    1,096\n",
       "Self-Inflicted                   255\n",
       "Discipline                       115\n",
       "Vehicle                           21\n",
       "Tools/Equipment                   19\n",
       "Water Activities                  17\n",
       "Firearms/Weapons                   6\n",
       "Restraint and Seclusion            5\n",
       "Weather                            2\n",
       "Name: Injury Caused By, dtype: object"
      ]
     },
     "execution_count": 9,
     "metadata": {},
     "output_type": "execute_result"
    }
   ],
   "source": [
    "dat['Injury Caused By'].value_counts().apply('{:,}'.format)"
   ]
  },
  {
   "cell_type": "code",
   "execution_count": null,
   "metadata": {},
   "outputs": [],
   "source": []
  }
 ],
 "metadata": {
  "kernelspec": {
   "display_name": "Python 3",
   "language": "python",
   "name": "python3"
  },
  "language_info": {
   "codemirror_mode": {
    "name": "ipython",
    "version": 3
   },
   "file_extension": ".py",
   "mimetype": "text/x-python",
   "name": "python",
   "nbconvert_exporter": "python",
   "pygments_lexer": "ipython3",
   "version": "3.6.1"
  }
 },
 "nbformat": 4,
 "nbformat_minor": 2
}
